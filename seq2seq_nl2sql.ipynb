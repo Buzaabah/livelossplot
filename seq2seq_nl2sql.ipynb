{
  "nbformat": 4,
  "nbformat_minor": 0,
  "metadata": {
    "colab": {
      "name": "Untitled6.ipynb",
      "version": "0.3.2",
      "provenance": [],
      "collapsed_sections": [],
      "include_colab_link": true
    },
    "kernelspec": {
      "name": "python3",
      "display_name": "Python 3"
    },
    "accelerator": "GPU"
  },
  "cells": [
    {
      "cell_type": "markdown",
      "metadata": {
        "id": "view-in-github",
        "colab_type": "text"
      },
      "source": [
        "<a href=\"https://colab.research.google.com/github/Buzaabah/livelossplot/blob/master/seq2seq_nl2sql.ipynb\" target=\"_parent\"><img src=\"https://colab.research.google.com/assets/colab-badge.svg\" alt=\"Open In Colab\"/></a>"
      ]
    },
    {
      "cell_type": "code",
      "metadata": {
        "id": "JRkp-3oRQliv",
        "colab_type": "code",
        "outputId": "5646c0a4-1a29-4a55-b57a-eebfa9d4cc6f",
        "colab": {
          "base_uri": "https://localhost:8080/",
          "height": 122
        }
      },
      "source": [
        "from google.colab import drive\n",
        "drive.mount('/content/drive')"
      ],
      "execution_count": 0,
      "outputs": [
        {
          "output_type": "stream",
          "text": [
            "Go to this URL in a browser: https://accounts.google.com/o/oauth2/auth?client_id=947318989803-6bn6qk8qdgf4n4g3pfee6491hc0brc4i.apps.googleusercontent.com&redirect_uri=urn%3Aietf%3Awg%3Aoauth%3A2.0%3Aoob&scope=email%20https%3A%2F%2Fwww.googleapis.com%2Fauth%2Fdocs.test%20https%3A%2F%2Fwww.googleapis.com%2Fauth%2Fdrive%20https%3A%2F%2Fwww.googleapis.com%2Fauth%2Fdrive.photos.readonly%20https%3A%2F%2Fwww.googleapis.com%2Fauth%2Fpeopleapi.readonly&response_type=code\n",
            "\n",
            "Enter your authorization code:\n",
            "··········\n",
            "Mounted at /content/drive\n"
          ],
          "name": "stdout"
        }
      ]
    },
    {
      "cell_type": "code",
      "metadata": {
        "id": "ON2dR38UTrL2",
        "colab_type": "code",
        "colab": {}
      },
      "source": [
        "cd original\\ copy"
      ],
      "execution_count": 0,
      "outputs": []
    },
    {
      "cell_type": "code",
      "metadata": {
        "id": "1ZFkzeBgSDOX",
        "colab_type": "code",
        "colab": {}
      },
      "source": [
        "#Important parckages\n",
        "\n",
        "%matplotlib inline\n",
        "\n",
        "import re,string\n",
        "import numpy as np\n",
        "import pickle\n",
        "import spacy\n",
        "from spacy.symbols import ORTH\n",
        "\n",
        "en_tok = spacy.load('en')\n",
        "\n",
        "from collections import Counter,defaultdict\n",
        "from pathlib import Path\n"
      ],
      "execution_count": 0,
      "outputs": []
    },
    {
      "cell_type": "code",
      "metadata": {
        "id": "rhU9aTSFUHq4",
        "colab_type": "code",
        "outputId": "fb2746b9-22b4-4cf1-ab1a-e4af3170c1e4",
        "colab": {
          "base_uri": "https://localhost:8080/",
          "height": 122
        }
      },
      "source": [
        "#Reading required data\n",
        "\n",
        "train_data = open('atis.uw.train.txt').readlines()\n",
        "train_data[:5]\n",
        "#len(train_data)"
      ],
      "execution_count": 10,
      "outputs": [
        {
          "output_type": "execute_result",
          "data": {
            "text/plain": [
              "[\"list all the flights that arrive at general mitchell international from various cities ||| SELECT DISTINCT flight_1.flight_id FROM flight flight_1 , airport airport_1 , airport_service airport_service_1 , city city_1 WHERE flight_1.to_airport = airport_1.airport_code AND airport_1.airport_code = 'MKE' AND flight_1.from_airport = airport_service_1.airport_code AND airport_service_1.city_code = city_1.city_code\\n\",\n",
              " \"give me the flights leaving denver august ninth coming back to boston ||| SELECT DISTINCT flight_1.flight_id FROM flight flight_1 , airport_service airport_service_1 , city city_1 , airport_service airport_service_2 , city city_2 , days days_1 , date_day date_day_1 WHERE flight_1.from_airport = airport_service_1.airport_code AND airport_service_1.city_code = city_1.city_code AND city_1.city_name = 'DENVER' AND ( flight_1.to_airport = airport_service_2.airport_code AND airport_service_2.city_code = city_2.city_code AND city_2.city_name = 'BOSTON' AND flight_1.flight_days = days_1.days_code AND days_1.day_name = date_day_1.day_name AND date_day_1.year = 1991 AND date_day_1.month_number = 8 AND date_day_1.day_number = 9 )\\n\",\n",
              " \"what flights from tacoma to orlando on saturday ||| SELECT DISTINCT flight_1.flight_id FROM flight flight_1 , airport_service airport_service_1 , city city_1 , airport_service airport_service_2 , city city_2 , days days_1 , date_day date_day_1 WHERE flight_1.from_airport = airport_service_1.airport_code AND airport_service_1.city_code = city_1.city_code AND city_1.city_name = 'TACOMA' AND ( flight_1.to_airport = airport_service_2.airport_code AND airport_service_2.city_code = city_2.city_code AND city_2.city_name = 'ORLANDO' AND flight_1.flight_days = days_1.days_code AND days_1.day_name = date_day_1.day_name AND date_day_1.year = 1991 AND date_day_1.month_number = 7 AND date_day_1.day_number = 26 )\\n\",\n",
              " \"what is the most expensive one way fare from boston to atlanta on american airlines ||| SELECT DISTINCT fare_1.fare_id FROM fare fare_1 , flight_fare flight_fare_1 , flight flight_1 , airport_service airport_service_1 , city city_1 , airport_service airport_service_2 , city city_2 WHERE fare_1.one_direction_cost = ( SELECT MAX ( fare_1.one_direction_cost ) FROM fare fare_1 , flight_fare flight_fare_1 , flight flight_1 , airport_service airport_service_1 , city city_1 , airport_service airport_service_2 , city city_2 WHERE fare_1.round_trip_required = 'NO' AND fare_1.fare_id = flight_fare_1.fare_id AND flight_fare_1.flight_id = flight_1.flight_id AND flight_1.airline_code = 'AA' AND ( flight_1.from_airport = airport_service_1.airport_code AND airport_service_1.city_code = city_1.city_code AND city_1.city_name = 'BOSTON' AND flight_1.to_airport = airport_service_2.airport_code AND airport_service_2.city_code = city_2.city_code AND city_2.city_name = 'ATLANTA' ) ) AND fare_1.fare_id = flight_fare_1.fare_id AND flight_fare_1.flight_id = flight_1.flight_id AND flight_1.airline_code = 'AA' AND ( flight_1.from_airport = airport_service_1.airport_code AND airport_service_1.city_code = city_1.city_code AND city_1.city_name = 'BOSTON' AND flight_1.to_airport = airport_service_2.airport_code AND airport_service_2.city_code = city_2.city_code AND city_2.city_name = 'ATLANTA' )\\n\",\n",
              " \"what flights return from denver to philadelphia on a saturday ||| SELECT DISTINCT flight_1.flight_id FROM flight flight_1 , airport_service airport_service_1 , city city_1 , airport_service airport_service_2 , city city_2 , days days_1 WHERE flight_1.from_airport = airport_service_1.airport_code AND airport_service_1.city_code = city_1.city_code AND city_1.city_name = 'DENVER' AND ( flight_1.to_airport = airport_service_2.airport_code AND airport_service_2.city_code = city_2.city_code AND city_2.city_name = 'PHILADELPHIA' AND flight_1.flight_days = days_1.days_code AND days_1.day_name = 'SATURDAY' )\\n\"]"
            ]
          },
          "metadata": {
            "tags": []
          },
          "execution_count": 10
        }
      ]
    },
    {
      "cell_type": "code",
      "metadata": {
        "id": "Yo2hZpgSUnup",
        "colab_type": "code",
        "outputId": "2bccb9bb-d4f4-4308-e0c8-87278c24f48b",
        "colab": {
          "base_uri": "https://localhost:8080/",
          "height": 34
        }
      },
      "source": [
        "test_data = open('atis.uw.test.txt').readlines()\n",
        "test_data[:5]\n",
        "len(test_data)"
      ],
      "execution_count": 0,
      "outputs": [
        {
          "output_type": "execute_result",
          "data": {
            "text/plain": [
              "447"
            ]
          },
          "metadata": {
            "tags": []
          },
          "execution_count": 51
        }
      ]
    },
    {
      "cell_type": "code",
      "metadata": {
        "id": "XbZ-tzjFidOX",
        "colab_type": "code",
        "outputId": "9195c84f-d4e8-47fb-ad40-7921a478d49b",
        "colab": {
          "base_uri": "https://localhost:8080/",
          "height": 34
        }
      },
      "source": [
        "dev_data = open('atis.uw.dev.txt').readlines()\n",
        "dev_data[:5]\n",
        "\n",
        "len(dev_data)"
      ],
      "execution_count": 0,
      "outputs": [
        {
          "output_type": "execute_result",
          "data": {
            "text/plain": [
              "486"
            ]
          },
          "metadata": {
            "tags": []
          },
          "execution_count": 52
        }
      ]
    },
    {
      "cell_type": "code",
      "metadata": {
        "id": "5cbCgfP_ingG",
        "colab_type": "code",
        "colab": {}
      },
      "source": [
        "# Combining train, dev and test sets\n",
        "\n",
        "file_list = ['atis.uw.train.txt', 'atis.uw.dev.txt', 'atis.uw.test.txt']\n",
        "output_file = Path('Out_file.txt')\n",
        "for file in file_list:\n",
        "  output_file.write_text(Path(file).read_text())"
      ],
      "execution_count": 0,
      "outputs": []
    },
    {
      "cell_type": "code",
      "metadata": {
        "id": "r3Lc9l66mxuY",
        "colab_type": "code",
        "outputId": "2797a337-d323-4e66-b5fb-c6f1b7330a70",
        "colab": {
          "base_uri": "https://localhost:8080/",
          "height": 34
        }
      },
      "source": [
        "# Reading a combined file\n",
        "\n",
        "data = open('Out_file.txt').readlines()\n",
        "#data[:5]\n",
        "len(data)"
      ],
      "execution_count": 0,
      "outputs": [
        {
          "output_type": "execute_result",
          "data": {
            "text/plain": [
              "447"
            ]
          },
          "metadata": {
            "tags": []
          },
          "execution_count": 50
        }
      ]
    },
    {
      "cell_type": "code",
      "metadata": {
        "id": "m0zs0nOlVLAK",
        "colab_type": "code",
        "colab": {}
      },
      "source": [
        "# making a corpus\n",
        "\n",
        "def make_corpus(corpus_path):\n",
        "    en,sql = [],[]\n",
        "    for line in train_data:\n",
        "        if '\\n' in line:\n",
        "            new_line = line.replace('\\n','')\n",
        "            new_line = new_line.split('|||')\n",
        "            en.append(new_line[0])\n",
        "            sql.append(new_line[1])\n",
        "    return en,sql"
      ],
      "execution_count": 0,
      "outputs": []
    },
    {
      "cell_type": "code",
      "metadata": {
        "id": "aM5UU8DjXJ57",
        "colab_type": "code",
        "outputId": "527173db-ea0c-4351-8dd7-28247042617c",
        "colab": {
          "base_uri": "https://localhost:8080/",
          "height": 105
        }
      },
      "source": [
        "#unpacking the corpus\n",
        "\n",
        "en, sql = make_corpus('atis.uw.train.txt')\n",
        "en[:2],sql[:2]"
      ],
      "execution_count": 12,
      "outputs": [
        {
          "output_type": "execute_result",
          "data": {
            "text/plain": [
              "(['list all the flights that arrive at general mitchell international from various cities ',\n",
              "  'give me the flights leaving denver august ninth coming back to boston '],\n",
              " [\" SELECT DISTINCT flight_1.flight_id FROM flight flight_1 , airport airport_1 , airport_service airport_service_1 , city city_1 WHERE flight_1.to_airport = airport_1.airport_code AND airport_1.airport_code = 'MKE' AND flight_1.from_airport = airport_service_1.airport_code AND airport_service_1.city_code = city_1.city_code\",\n",
              "  \" SELECT DISTINCT flight_1.flight_id FROM flight flight_1 , airport_service airport_service_1 , city city_1 , airport_service airport_service_2 , city city_2 , days days_1 , date_day date_day_1 WHERE flight_1.from_airport = airport_service_1.airport_code AND airport_service_1.city_code = city_1.city_code AND city_1.city_name = 'DENVER' AND ( flight_1.to_airport = airport_service_2.airport_code AND airport_service_2.city_code = city_2.city_code AND city_2.city_name = 'BOSTON' AND flight_1.flight_days = days_1.days_code AND days_1.day_name = date_day_1.day_name AND date_day_1.year = 1991 AND date_day_1.month_number = 8 AND date_day_1.day_number = 9 )\"])"
            ]
          },
          "metadata": {
            "tags": []
          },
          "execution_count": 12
        }
      ]
    },
    {
      "cell_type": "code",
      "metadata": {
        "id": "MrqVWmftXgNd",
        "colab_type": "code",
        "colab": {}
      },
      "source": [
        "#pre-processing for tokenizing \n",
        "# Natural language tokens\n",
        "\n",
        "def en_tokenizer(text):\n",
        "    text = text.lower()\n",
        "    return [t.text for t in en_tok.tokenizer(text)]\n",
        "  \n",
        "#SQL tokens\n",
        "def en_tokenizer(text):\n",
        "    text = text\n",
        "    return [t.text for t in en_tok.tokenizer(text)]"
      ],
      "execution_count": 0,
      "outputs": []
    },
    {
      "cell_type": "code",
      "metadata": {
        "id": "7L50Vb10Yp8N",
        "colab_type": "code",
        "outputId": "9743a325-527a-43b8-ad05-bf1993e14262",
        "colab": {
          "base_uri": "https://localhost:8080/",
          "height": 1000
        }
      },
      "source": [
        "# Tokens\n",
        "\n",
        "en_toks = [en_tokenizer(text) for text in en]\n",
        "sql_toks = [en_tokenizer(text) for text in sql]\n",
        "en_toks[:2], sql_toks[:2]"
      ],
      "execution_count": 14,
      "outputs": [
        {
          "output_type": "execute_result",
          "data": {
            "text/plain": [
              "([['list',\n",
              "   'all',\n",
              "   'the',\n",
              "   'flights',\n",
              "   'that',\n",
              "   'arrive',\n",
              "   'at',\n",
              "   'general',\n",
              "   'mitchell',\n",
              "   'international',\n",
              "   'from',\n",
              "   'various',\n",
              "   'cities'],\n",
              "  ['give',\n",
              "   'me',\n",
              "   'the',\n",
              "   'flights',\n",
              "   'leaving',\n",
              "   'denver',\n",
              "   'august',\n",
              "   'ninth',\n",
              "   'coming',\n",
              "   'back',\n",
              "   'to',\n",
              "   'boston']],\n",
              " [[' ',\n",
              "   'SELECT',\n",
              "   'DISTINCT',\n",
              "   'flight_1.flight_id',\n",
              "   'FROM',\n",
              "   'flight',\n",
              "   'flight_1',\n",
              "   ',',\n",
              "   'airport',\n",
              "   'airport_1',\n",
              "   ',',\n",
              "   'airport_service',\n",
              "   'airport_service_1',\n",
              "   ',',\n",
              "   'city',\n",
              "   'city_1',\n",
              "   'WHERE',\n",
              "   'flight_1.to_airport',\n",
              "   '=',\n",
              "   'airport_1.airport_code',\n",
              "   'AND',\n",
              "   'airport_1.airport_code',\n",
              "   '=',\n",
              "   \"'\",\n",
              "   'MKE',\n",
              "   \"'\",\n",
              "   'AND',\n",
              "   'flight_1.from_airport',\n",
              "   '=',\n",
              "   'airport_service_1.airport_code',\n",
              "   'AND',\n",
              "   'airport_service_1.city_code',\n",
              "   '=',\n",
              "   'city_1.city_code'],\n",
              "  [' ',\n",
              "   'SELECT',\n",
              "   'DISTINCT',\n",
              "   'flight_1.flight_id',\n",
              "   'FROM',\n",
              "   'flight',\n",
              "   'flight_1',\n",
              "   ',',\n",
              "   'airport_service',\n",
              "   'airport_service_1',\n",
              "   ',',\n",
              "   'city',\n",
              "   'city_1',\n",
              "   ',',\n",
              "   'airport_service',\n",
              "   'airport_service_2',\n",
              "   ',',\n",
              "   'city',\n",
              "   'city_2',\n",
              "   ',',\n",
              "   'days',\n",
              "   'days_1',\n",
              "   ',',\n",
              "   'date_day',\n",
              "   'date_day_1',\n",
              "   'WHERE',\n",
              "   'flight_1.from_airport',\n",
              "   '=',\n",
              "   'airport_service_1.airport_code',\n",
              "   'AND',\n",
              "   'airport_service_1.city_code',\n",
              "   '=',\n",
              "   'city_1.city_code',\n",
              "   'AND',\n",
              "   'city_1.city_name',\n",
              "   '=',\n",
              "   \"'\",\n",
              "   'DENVER',\n",
              "   \"'\",\n",
              "   'AND',\n",
              "   '(',\n",
              "   'flight_1.to_airport',\n",
              "   '=',\n",
              "   'airport_service_2.airport_code',\n",
              "   'AND',\n",
              "   'airport_service_2.city_code',\n",
              "   '=',\n",
              "   'city_2.city_code',\n",
              "   'AND',\n",
              "   'city_2.city_name',\n",
              "   '=',\n",
              "   \"'\",\n",
              "   'BOSTON',\n",
              "   \"'\",\n",
              "   'AND',\n",
              "   'flight_1.flight_days',\n",
              "   '=',\n",
              "   'days_1.days_code',\n",
              "   'AND',\n",
              "   'days_1.day_name',\n",
              "   '=',\n",
              "   'date_day_1.day_name',\n",
              "   'AND',\n",
              "   'date_day_1.year',\n",
              "   '=',\n",
              "   '1991',\n",
              "   'AND',\n",
              "   'date_day_1.month_number',\n",
              "   '=',\n",
              "   '8',\n",
              "   'AND',\n",
              "   'date_day_1.day_number',\n",
              "   '=',\n",
              "   '9',\n",
              "   ')']])"
            ]
          },
          "metadata": {
            "tags": []
          },
          "execution_count": 14
        }
      ]
    },
    {
      "cell_type": "code",
      "metadata": {
        "id": "DyVZE0gKZCsL",
        "colab_type": "code",
        "outputId": "ed0bc432-b216-4cd8-b758-b66cd9ada182",
        "colab": {
          "base_uri": "https://localhost:8080/",
          "height": 34
        }
      },
      "source": [
        "len(en_toks), len(sql_toks)"
      ],
      "execution_count": 15,
      "outputs": [
        {
          "output_type": "execute_result",
          "data": {
            "text/plain": [
              "(4350, 4350)"
            ]
          },
          "metadata": {
            "tags": []
          },
          "execution_count": 15
        }
      ]
    },
    {
      "cell_type": "code",
      "metadata": {
        "id": "bKduIWCHZ3fC",
        "colab_type": "code",
        "colab": {}
      },
      "source": [
        "# Creating a dictionary/numerical order\n",
        "\n",
        "def numericalize_tok(tokens, max_vocab=10000, min_freq=0, unk_tok=\"xxunk\", pad_tok=\"xxpad\", bos_tok=\"xxbos\", eos_tok=\"xxeos\"):\n",
        "    if isinstance(tokens, str):\n",
        "        raise ValueError(\"Expected to receive a list of tokens. Received a string instead\")\n",
        "    if isinstance(tokens[0], list):\n",
        "        tokens = [v for w in tokens for v in w]\n",
        "    freq = Counter(tokens)\n",
        "    int2tok = [w for w,z in freq.most_common(max_vocab) if z>min_freq]\n",
        "    unk_id = 3\n",
        "    int2tok.insert(0, bos_tok)\n",
        "    int2tok.insert(1, pad_tok)\n",
        "    int2tok.insert(2, eos_tok)\n",
        "    int2tok.insert(unk_id, unk_tok)\n",
        "    tok2int = defaultdict(lambda:unk_id, {n:k for k,n in enumerate(int2tok)})\n",
        "    return int2tok, tok2int\n",
        "  \n",
        " "
      ],
      "execution_count": 0,
      "outputs": []
    },
    {
      "cell_type": "code",
      "metadata": {
        "id": "tS5iR54ubrYm",
        "colab_type": "code",
        "colab": {}
      },
      "source": [
        "int2sql,sql2int = numericalize_tok(sql_toks)\n",
        "int2en,en2int = numericalize_tok(en_toks)"
      ],
      "execution_count": 0,
      "outputs": []
    },
    {
      "cell_type": "code",
      "metadata": {
        "id": "a-5VroSTb7e_",
        "colab_type": "code",
        "outputId": "3e16884d-9605-46a4-92e4-b0d402f83be2",
        "colab": {
          "base_uri": "https://localhost:8080/",
          "height": 34
        }
      },
      "source": [
        "len(int2sql), len(int2en)"
      ],
      "execution_count": 18,
      "outputs": [
        {
          "output_type": "execute_result",
          "data": {
            "text/plain": [
              "(688, 859)"
            ]
          },
          "metadata": {
            "tags": []
          },
          "execution_count": 18
        }
      ]
    },
    {
      "cell_type": "code",
      "metadata": {
        "id": "aGD0JY0id0Bx",
        "colab_type": "code",
        "colab": {}
      },
      "source": [
        "ls"
      ],
      "execution_count": 0,
      "outputs": []
    },
    {
      "cell_type": "code",
      "metadata": {
        "id": "4YLltswucpBN",
        "colab_type": "code",
        "colab": {}
      },
      "source": [
        "# serializing (Saving) a list of tokens for further usage \n",
        "# english tokens\n",
        "\n",
        "int2en_out = open(\"int2en.pkl\",\"wb\")\n",
        "pickle.dump(int2en, int2en_out)\n",
        "int2en_out.close()"
      ],
      "execution_count": 0,
      "outputs": []
    },
    {
      "cell_type": "code",
      "metadata": {
        "id": "e20AGdxqeBL-",
        "colab_type": "code",
        "colab": {}
      },
      "source": [
        "# serializing (Saving) a list of tokens for further usage \n",
        "# SQL tokens\n",
        "\n",
        "int2sql_out = open(\"int2sql.pkl\",\"wb\")\n",
        "pickle.dump(int2sql, int2sql_out)\n",
        "int2sql_out.close()"
      ],
      "execution_count": 0,
      "outputs": []
    },
    {
      "cell_type": "code",
      "metadata": {
        "id": "TzhmhW76cA3w",
        "colab_type": "code",
        "colab": {}
      },
      "source": [
        "# Reading a list of tokens for further usage \n",
        "# English tokens\n",
        "  \n",
        "  with open ('int2en.pkl', 'rb') as fp:\n",
        "    int2en = pickle.load(fp)\n",
        "      "
      ],
      "execution_count": 0,
      "outputs": []
    },
    {
      "cell_type": "code",
      "metadata": {
        "id": "Ocmafk6uezDz",
        "colab_type": "code",
        "colab": {}
      },
      "source": [
        "# Reading a list of tokens for further usage \n",
        "# SQL tokens\n",
        "\n",
        "with open ('int2sql.pkl', 'rb') as fp:\n",
        "  int2sql = pickle.load(fp)"
      ],
      "execution_count": 0,
      "outputs": []
    },
    {
      "cell_type": "code",
      "metadata": {
        "id": "eNbXUiWNgxRv",
        "colab_type": "code",
        "outputId": "86d02fec-377a-49d8-dfa2-0c1c8e27fec7",
        "colab": {
          "base_uri": "https://localhost:8080/",
          "height": 34
        }
      },
      "source": [
        "type(int2en), type(int2sql)"
      ],
      "execution_count": 23,
      "outputs": [
        {
          "output_type": "execute_result",
          "data": {
            "text/plain": [
              "(list, list)"
            ]
          },
          "metadata": {
            "tags": []
          },
          "execution_count": 23
        }
      ]
    },
    {
      "cell_type": "code",
      "metadata": {
        "id": "6EOKBE_HfZMm",
        "colab_type": "code",
        "outputId": "f40ce07f-2dce-4fdc-962b-d60b9cb14421",
        "colab": {
          "base_uri": "https://localhost:8080/",
          "height": 34
        }
      },
      "source": [
        "# Creating indices\n",
        "\n",
        "sql2int = defaultdict(lambda:3, {n:k for k,n in enumerate(int2sql)})\n",
        "en2int = defaultdict(lambda:3, {n:k for k,n in enumerate(int2en)})\n",
        "\n",
        "\n",
        "\n",
        "len(sql2int), len(en2int)"
      ],
      "execution_count": 24,
      "outputs": [
        {
          "output_type": "execute_result",
          "data": {
            "text/plain": [
              "(688, 859)"
            ]
          },
          "metadata": {
            "tags": []
          },
          "execution_count": 24
        }
      ]
    },
    {
      "cell_type": "code",
      "metadata": {
        "id": "P-sNc6ESffvi",
        "colab_type": "code",
        "outputId": "5c00b191-1838-4fe7-e6cd-a7c60ed8c0b2",
        "colab": {
          "base_uri": "https://localhost:8080/",
          "height": 1000
        }
      },
      "source": [
        "\n",
        "sql_ids = np.array([[0]+[sql2int[o] for o in sent]+[2] for sent in sql_toks])\n",
        "en_ids = np.array([[0]+[en2int[o] for o in sent]+[2] for sent in en_toks])\n",
        "len(sql_ids),len(en_ids), sql_ids[3],en_ids[3]"
      ],
      "execution_count": 25,
      "outputs": [
        {
          "output_type": "execute_result",
          "data": {
            "text/plain": [
              "(4350,\n",
              " 4350,\n",
              " [0,\n",
              "  25,\n",
              "  12,\n",
              "  24,\n",
              "  41,\n",
              "  13,\n",
              "  49,\n",
              "  51,\n",
              "  6,\n",
              "  50,\n",
              "  54,\n",
              "  6,\n",
              "  19,\n",
              "  22,\n",
              "  6,\n",
              "  9,\n",
              "  23,\n",
              "  6,\n",
              "  8,\n",
              "  17,\n",
              "  6,\n",
              "  9,\n",
              "  33,\n",
              "  6,\n",
              "  8,\n",
              "  30,\n",
              "  14,\n",
              "  69,\n",
              "  4,\n",
              "  10,\n",
              "  12,\n",
              "  148,\n",
              "  10,\n",
              "  69,\n",
              "  11,\n",
              "  13,\n",
              "  49,\n",
              "  51,\n",
              "  6,\n",
              "  50,\n",
              "  54,\n",
              "  6,\n",
              "  19,\n",
              "  22,\n",
              "  6,\n",
              "  9,\n",
              "  23,\n",
              "  6,\n",
              "  8,\n",
              "  17,\n",
              "  6,\n",
              "  9,\n",
              "  33,\n",
              "  6,\n",
              "  8,\n",
              "  30,\n",
              "  14,\n",
              "  114,\n",
              "  4,\n",
              "  7,\n",
              "  115,\n",
              "  7,\n",
              "  5,\n",
              "  41,\n",
              "  4,\n",
              "  52,\n",
              "  5,\n",
              "  53,\n",
              "  4,\n",
              "  18,\n",
              "  5,\n",
              "  58,\n",
              "  4,\n",
              "  7,\n",
              "  116,\n",
              "  7,\n",
              "  5,\n",
              "  10,\n",
              "  27,\n",
              "  4,\n",
              "  21,\n",
              "  5,\n",
              "  20,\n",
              "  4,\n",
              "  15,\n",
              "  5,\n",
              "  16,\n",
              "  4,\n",
              "  7,\n",
              "  48,\n",
              "  7,\n",
              "  5,\n",
              "  26,\n",
              "  4,\n",
              "  31,\n",
              "  5,\n",
              "  32,\n",
              "  4,\n",
              "  28,\n",
              "  5,\n",
              "  29,\n",
              "  4,\n",
              "  7,\n",
              "  59,\n",
              "  7,\n",
              "  11,\n",
              "  11,\n",
              "  5,\n",
              "  41,\n",
              "  4,\n",
              "  52,\n",
              "  5,\n",
              "  53,\n",
              "  4,\n",
              "  18,\n",
              "  5,\n",
              "  58,\n",
              "  4,\n",
              "  7,\n",
              "  116,\n",
              "  7,\n",
              "  5,\n",
              "  10,\n",
              "  27,\n",
              "  4,\n",
              "  21,\n",
              "  5,\n",
              "  20,\n",
              "  4,\n",
              "  15,\n",
              "  5,\n",
              "  16,\n",
              "  4,\n",
              "  7,\n",
              "  48,\n",
              "  7,\n",
              "  5,\n",
              "  26,\n",
              "  4,\n",
              "  31,\n",
              "  5,\n",
              "  32,\n",
              "  4,\n",
              "  28,\n",
              "  5,\n",
              "  29,\n",
              "  4,\n",
              "  7,\n",
              "  59,\n",
              "  7,\n",
              "  11,\n",
              "  2],\n",
              " [0, 9, 23, 7, 268, 169, 67, 70, 40, 5, 12, 4, 20, 8, 68, 31, 2])"
            ]
          },
          "metadata": {
            "tags": []
          },
          "execution_count": 25
        }
      ]
    },
    {
      "cell_type": "code",
      "metadata": {
        "id": "xRwoklf5hYlg",
        "colab_type": "code",
        "colab": {}
      },
      "source": [
        "# we set seed for reproducibility/splitting train and test\n",
        "\n",
        "np.random.seed(42)"
      ],
      "execution_count": 0,
      "outputs": []
    },
    {
      "cell_type": "code",
      "metadata": {
        "id": "FM6lyTTvwbA3",
        "colab_type": "code",
        "outputId": "acf1772b-fd88-4028-c130-b0557b28851e",
        "colab": {
          "base_uri": "https://localhost:8080/",
          "height": 51
        }
      },
      "source": [
        "#Padding for ebatch normalization\n",
        "\n",
        "import keras\n",
        "from keras.preprocessing.sequence import pad_sequences\n",
        "\n",
        "englen_90 = int(np.percentile([len(o) for o in en_ids], 99))\n",
        "sqllen_90 = int(np.percentile([len(o) for o in sql_ids], 99))\n",
        "englen_90, sqllen_90"
      ],
      "execution_count": 27,
      "outputs": [
        {
          "output_type": "stream",
          "text": [
            "Using TensorFlow backend.\n"
          ],
          "name": "stderr"
        },
        {
          "output_type": "execute_result",
          "data": {
            "text/plain": [
              "(27, 254)"
            ]
          },
          "metadata": {
            "tags": []
          },
          "execution_count": 27
        }
      ]
    },
    {
      "cell_type": "code",
      "metadata": {
        "id": "HDyvxWR3wnDq",
        "colab_type": "code",
        "colab": {}
      },
      "source": [
        "sql_ids = pad_sequences(sql_ids, maxlen=254, dtype='int32', padding='post', truncating='post', value=1)\n",
        "en_ids = pad_sequences(en_ids, maxlen=27, dtype='int32', padding='post', truncating='post', value=1)"
      ],
      "execution_count": 0,
      "outputs": []
    },
    {
      "cell_type": "code",
      "metadata": {
        "id": "8Q1NWq6IiCcN",
        "colab_type": "code",
        "outputId": "fab4790e-abe8-4fb4-fcf0-4d2fb00cf829",
        "colab": {
          "base_uri": "https://localhost:8080/",
          "height": 34
        }
      },
      "source": [
        "trn_keep = np.random.rand(len(en_ids))>0.1\n",
        "en_trn,sql_trn = en_ids[trn_keep],sql_ids[trn_keep]\n",
        "en_val,sql_val = en_ids[~trn_keep],sql_ids[~trn_keep]\n",
        "len(en_trn),len(en_val)"
      ],
      "execution_count": 29,
      "outputs": [
        {
          "output_type": "execute_result",
          "data": {
            "text/plain": [
              "(3886, 464)"
            ]
          },
          "metadata": {
            "tags": []
          },
          "execution_count": 29
        }
      ]
    },
    {
      "cell_type": "code",
      "metadata": {
        "id": "rTXG0MVhoEtY",
        "colab_type": "code",
        "colab": {}
      },
      "source": [
        "# Using pytorch framework to train seq2seq\n",
        "\n",
        "import torch\n",
        "import torch.nn as nn\n",
        "import torch.nn.functional as F\n",
        "\n",
        "from torch.autograd.variable import Variable\n",
        "from torch.utils.data import Dataset,DataLoader\n"
      ],
      "execution_count": 0,
      "outputs": []
    },
    {
      "cell_type": "code",
      "metadata": {
        "id": "JiSnF7M3owCH",
        "colab_type": "code",
        "colab": {}
      },
      "source": [
        "from numpy import array as A"
      ],
      "execution_count": 0,
      "outputs": []
    },
    {
      "cell_type": "code",
      "metadata": {
        "id": "fcyqg8lHo4q0",
        "colab_type": "code",
        "colab": {}
      },
      "source": [
        "#Creating a seq2seq\n",
        "\n",
        "class seq2seqDataset(Dataset):\n",
        "  def __init__(self, x, y): self.x,self.y = x,y\n",
        "  def __getitem__(self, idx): return A(self.x[idx]), A(self.y[idx])\n",
        "  def __len__(self): return len(self.x)\n",
        "  \n",
        "  "
      ],
      "execution_count": 0,
      "outputs": []
    },
    {
      "cell_type": "code",
      "metadata": {
        "id": "gqg_k_YapyZs",
        "colab_type": "code",
        "colab": {}
      },
      "source": [
        "# Training sequence\n",
        "\n",
        "trn_ds = seq2seqDataset(en_trn,sql_trn)\n",
        "val_ds = seq2seqDataset(en_val,sql_val)\n",
        "\n",
        "bs = 120 #batch size\n",
        "\n",
        "# Loading training dataset\n",
        "\n",
        "trn_dl = DataLoader(trn_ds,batch_size=bs,shuffle=True)\n",
        "val_dl = DataLoader(val_ds,batch_size=bs)"
      ],
      "execution_count": 0,
      "outputs": []
    },
    {
      "cell_type": "code",
      "metadata": {
        "id": "ifEF2rwWuMeY",
        "colab_type": "code",
        "outputId": "2401fa9f-01de-40f8-bd5c-a43fd21e48e6",
        "colab": {
          "base_uri": "https://localhost:8080/",
          "height": 34
        }
      },
      "source": [
        "x, y = next(iter(val_dl))\n",
        "x.size(), y.size()\n",
        "\n"
      ],
      "execution_count": 34,
      "outputs": [
        {
          "output_type": "execute_result",
          "data": {
            "text/plain": [
              "(torch.Size([120, 27]), torch.Size([120, 254]))"
            ]
          },
          "metadata": {
            "tags": []
          },
          "execution_count": 34
        }
      ]
    },
    {
      "cell_type": "code",
      "metadata": {
        "id": "nUBsF3gDvuPu",
        "colab_type": "code",
        "colab": {}
      },
      "source": [
        "## load fasttext vectors\n",
        "#code from here:https://github.com/facebookresearch/fastText/blob/master/docs/crawl-vectors.md\n",
        "import io\n",
        "def load_vectors(fname):\n",
        "    fin = io.open(fname, 'r', encoding='utf-8', newline='\\n', errors='ignore')\n",
        "    header = fin.readline().split()\n",
        "    n, d = int(header[0]), int(header[1])\n",
        "    data = {}\n",
        "    for line in fin:\n",
        "        tokens = line.rstrip().split(' ')\n",
        "        data[tokens[0]] = np.array(tokens[1:], dtype=float)\n",
        "    return data, int(n), int(d)"
      ],
      "execution_count": 0,
      "outputs": []
    },
    {
      "cell_type": "code",
      "metadata": {
        "id": "42ns8Tbutaj-",
        "colab_type": "code",
        "colab": {}
      },
      "source": [
        "# get word vectors\n",
        "#!wget https://dl.fbaipublicfiles.com/fasttext/vectors-english/wiki-news-300d-1M.vec.zip\n",
        "#!unzip wiki-news-300d-1M.vec.zip\n",
        "#!mv wiki-news-300d-1M.vec data/\n"
      ],
      "execution_count": 0,
      "outputs": []
    },
    {
      "cell_type": "code",
      "metadata": {
        "id": "y2SFkDNct6sc",
        "colab_type": "code",
        "colab": {
          "base_uri": "https://localhost:8080/",
          "height": 153
        },
        "outputId": "6fbc3a88-1daa-4fa8-d29b-5c048d6d9ec9"
      },
      "source": [
        "ls\n"
      ],
      "execution_count": 8,
      "outputs": [
        {
          "output_type": "stream",
          "text": [
            "academic.txt          geography.uw.test.txt   scholar.uw.dev.txt\n",
            "atis-notes.md         geography.uw.train.txt  scholar.uw.test.txt\n",
            "atis.uw.dev.txt       imdb.txt                scholar.uw.train.txt\n",
            "atis.uw.test.txt      int2en.pkl              wiki-news-300d-1M.vec\n",
            "atis.uw.train.txt     int2sql.pkl             wiki-news-300d-1M.vec.zip\n",
            "cc.ja.300.vec.gz      Out_file.txt            yelp.txt\n",
            "geography-db.txt      README.md\n",
            "geography.uw.dev.txt  scholar-notes.md\n"
          ],
          "name": "stdout"
        }
      ]
    },
    {
      "cell_type": "code",
      "metadata": {
        "id": "kU2CPwcG9XJO",
        "colab_type": "code",
        "colab": {}
      },
      "source": [
        "# Loading vectors\n",
        "\n",
        "en_vecs,_,dim_en_vec = load_vectors('wiki-news-300d-1M.vec')\n",
        "sql_vecs,_,dim_sql_vec = load_vectors('wiki-news-300d-1M.vec')"
      ],
      "execution_count": 0,
      "outputs": []
    },
    {
      "cell_type": "code",
      "metadata": {
        "id": "6LaE6qvZ9dDg",
        "colab_type": "code",
        "colab": {}
      },
      "source": [
        "# Creating embbeddings\n",
        "\n",
        "def create_emb(vecs, itos, em_sz):\n",
        "    emb = nn.Embedding(len(itos), em_sz, padding_idx=1)\n",
        "    if vecs is None: return emb\n",
        "    wgts = emb.weight.data\n",
        "    miss = []\n",
        "    for i,w in enumerate(itos):\n",
        "        try: wgts[i] = torch.from_numpy(vecs[w])\n",
        "        except: miss.append(w)\n",
        "    print('Number of unknowns in data: {}'.format(len(miss)))\n",
        "    return emb\n",
        "    "
      ],
      "execution_count": 0,
      "outputs": []
    },
    {
      "cell_type": "code",
      "metadata": {
        "id": "E6nIy1Bt_DRV",
        "colab_type": "code",
        "colab": {}
      },
      "source": [
        "def V(tensor,req_grad=True):\n",
        "    if torch.cuda.is_available():return Variable(tensor.cuda())\n",
        "    else: return Variable(tensor)"
      ],
      "execution_count": 0,
      "outputs": []
    },
    {
      "cell_type": "code",
      "metadata": {
        "id": "r06PdcAN_PMQ",
        "colab_type": "code",
        "colab": {}
      },
      "source": [
        "# Seq2Seq Architecture\n",
        "# a multilayered Long Short-Term Memory (LSTM) to map the input sequence to a vector of a fixed dimensionality, \n",
        "# and then another deep LSTM to decode the target sequence from the vector.\n",
        "\n",
        "# sl: sequence length, bs: batch size, nh: number of hideen units"
      ],
      "execution_count": 0,
      "outputs": []
    },
    {
      "cell_type": "code",
      "metadata": {
        "id": "PF_XOIrQ_rdS",
        "colab_type": "code",
        "colab": {}
      },
      "source": [
        "class Seq2Seq(nn.Module):\n",
        "    def __init__(self,int2en,int2sql,em_sz,sql_vecs=None,en_vecs=None,nh=128,out_sl=27,dropf=1,nl=2):\n",
        "        super().__init__()\n",
        "        #encoder\n",
        "        self.nl,self.nh,self.em_sz,self.out_sl = nl,nh,em_sz,out_sl\n",
        "        self.emb_enc = create_emb(en_vecs,int2en,em_sz)\n",
        "        self.emb_drop = nn.Dropout(0.15*dropf)\n",
        "        self.encoder = nn.GRU(em_sz,nh,num_layers=nl,dropout=0.25*dropf, bidirectional=True)\n",
        "        #decoder\n",
        "        self.emb_dec = create_emb(sql_vecs,int2sql,em_sz)\n",
        "        self.decoder = nn.GRU(em_sz,nh*2,num_layers=nl,dropout=0.25*dropf)\n",
        "        self.out_drop = nn.Dropout(0.35*dropf)\n",
        "        self.out = nn.Linear(nh*2,len(int2sql))\n",
        "    \n",
        "    def forward(self,inp,y=None):\n",
        "        sl, bs = inp.size()\n",
        "        emb_in = self.emb_drop(self.emb_enc(inp))\n",
        "        h_n = self.initHidden(bs)\n",
        "        enc_out, h_n = self.encoder(emb_in,h_n)\n",
        "        h_n = h_n.view(2,2,bs,-1).permute(0,2,1,3).contiguous().view(self.nl,bs,-1)\n",
        "        \n",
        "        dec_inp = V(torch.zeros(bs).long())\n",
        "        res = []\n",
        "        for i in range(self.out_sl):\n",
        "            dec_emb = self.emb_dec(dec_inp)\n",
        "            outp,h_n = self.decoder(dec_emb.unsqueeze(0),h_n)\n",
        "            outp = F.log_softmax(self.out(self.out_drop(outp[0])),dim=-1)\n",
        "            res.append(outp)\n",
        "            dec_inp = outp.data.max(1)[1]\n",
        "            if (dec_inp==1).all(): break\n",
        "        return torch.stack(res)\n",
        "        \n",
        "    def initHidden(self,bs):\n",
        "        return V(torch.zeros([self.nl*2,bs,self.nh]))"
      ],
      "execution_count": 0,
      "outputs": []
    },
    {
      "cell_type": "code",
      "metadata": {
        "id": "Q_EjVaYqBYzG",
        "colab_type": "code",
        "colab": {}
      },
      "source": [
        "# Reversing the order of the words (Bidirectional encoder) in all source sentences (butnot target sentences) improves the LSTM’s \n",
        "# performance, because doing so introduced many short term dependencies between the source and the targetsentence which \n",
        "# makes the optimization problem easier.\n",
        "\n",
        "# Input and output sequences may not directly map to each other so preserving information from both passes of the input sequence \n",
        "# will help learn how tokens relate to each other. For example in a translation task, subject and object can be in opposite positions \n",
        "# depending on the language structure."
      ],
      "execution_count": 0,
      "outputs": []
    },
    {
      "cell_type": "code",
      "metadata": {
        "id": "ZWahf2F1CNpq",
        "colab_type": "code",
        "colab": {
          "base_uri": "https://localhost:8080/",
          "height": 170
        },
        "outputId": "4e79166f-4533-484f-ad9c-57bf4f73906f"
      },
      "source": [
        "seq2seq = Seq2Seq(int2en,int2sql,300,en_vecs=None,sql_vecs=None)\n",
        "seq2seq.cuda()"
      ],
      "execution_count": 43,
      "outputs": [
        {
          "output_type": "execute_result",
          "data": {
            "text/plain": [
              "Seq2Seq(\n",
              "  (emb_enc): Embedding(859, 300, padding_idx=1)\n",
              "  (emb_drop): Dropout(p=0.15)\n",
              "  (encoder): GRU(300, 128, num_layers=2, dropout=0.25, bidirectional=True)\n",
              "  (emb_dec): Embedding(688, 300, padding_idx=1)\n",
              "  (decoder): GRU(300, 256, num_layers=2, dropout=0.25)\n",
              "  (out_drop): Dropout(p=0.35)\n",
              "  (out): Linear(in_features=256, out_features=688, bias=True)\n",
              ")"
            ]
          },
          "metadata": {
            "tags": []
          },
          "execution_count": 43
        }
      ]
    },
    {
      "cell_type": "code",
      "metadata": {
        "id": "4oSI9M4qCYE9",
        "colab_type": "code",
        "colab": {
          "base_uri": "https://localhost:8080/",
          "height": 34
        },
        "outputId": "8633a7b9-8f6a-4b78-cf9d-e46754365d9b"
      },
      "source": [
        "out = seq2seq(V(x.transpose(1,0).long()))\n",
        "out.size()"
      ],
      "execution_count": 44,
      "outputs": [
        {
          "output_type": "execute_result",
          "data": {
            "text/plain": [
              "torch.Size([27, 120, 688])"
            ]
          },
          "metadata": {
            "tags": []
          },
          "execution_count": 44
        }
      ]
    },
    {
      "cell_type": "code",
      "metadata": {
        "id": "l6vJQAnmCu7w",
        "colab_type": "code",
        "colab": {}
      },
      "source": [
        "#Loss Function: \n",
        "# Using the Cross Entropy Loss as we are trying to classify out the correct words. Cross entropy loss can be simplified to:\n",
        "\n",
        "#     cross_entropy = sum(-log(y_pred) for y_pred in y_preds)\n",
        "\n",
        "# y_pred is the likelihood of the target class predicted by the model. This is a good loss function for classification\n",
        "# because if the likelihood of the correct class is low, the loss value goes up and if it is high, the loss value goes down."
      ],
      "execution_count": 0,
      "outputs": []
    },
    {
      "cell_type": "code",
      "metadata": {
        "id": "PI4F3BC8DRly",
        "colab_type": "code",
        "colab": {}
      },
      "source": [
        "def seq2seq_loss(input, target):\n",
        "    sl,bs = target.size()\n",
        "    sl_in,bs_in,nc = input.size()\n",
        "    if sl>sl_in: input = F.pad(input, (0,0,0,0,0,sl-sl_in))\n",
        "    input = input[:sl]\n",
        "    return F.cross_entropy(input.view(-1,nc), target.view(-1))"
      ],
      "execution_count": 0,
      "outputs": []
    },
    {
      "cell_type": "code",
      "metadata": {
        "id": "DNoNDsZAD0--",
        "colab_type": "code",
        "colab": {
          "base_uri": "https://localhost:8080/",
          "height": 34
        },
        "outputId": "4c495917-e02d-40e5-8e91-b5d6d62ce2c8"
      },
      "source": [
        "seq2seq_loss(out,V(y.transpose(1,0).long()))"
      ],
      "execution_count": 47,
      "outputs": [
        {
          "output_type": "execute_result",
          "data": {
            "text/plain": [
              "tensor(6.5355, device='cuda:0', grad_fn=<NllLossBackward>)"
            ]
          },
          "metadata": {
            "tags": []
          },
          "execution_count": 47
        }
      ]
    },
    {
      "cell_type": "code",
      "metadata": {
        "id": "zDKdRT-GD5OL",
        "colab_type": "code",
        "colab": {}
      },
      "source": [
        "def step(x, y, epoch, m, crit, opt, clip=None):\n",
        "    output = m(x, y)\n",
        "    if isinstance(output,tuple): output = output[0]\n",
        "    opt.zero_grad()\n",
        "    loss = crit(output, y)\n",
        "    loss.backward()\n",
        "    if clip:\n",
        "        nn.utils.clip_grad_norm_(m.parameters(), clip)\n",
        "    opt.step()\n",
        "    return loss.data.item()"
      ],
      "execution_count": 0,
      "outputs": []
    },
    {
      "cell_type": "code",
      "metadata": {
        "id": "3dUcfb2SEK_Y",
        "colab_type": "code",
        "colab": {}
      },
      "source": [
        "from tqdm import tqdm"
      ],
      "execution_count": 0,
      "outputs": []
    },
    {
      "cell_type": "code",
      "metadata": {
        "id": "y_5AU5wnEQlJ",
        "colab_type": "code",
        "colab": {}
      },
      "source": [
        "# In pytorch we have to write a training function\n",
        "\n",
        "def train(trn_dl,val_dl,model,crit,opt,epochs= 20,clip=None):\n",
        "    for epoch in range(epochs):\n",
        "        loss_val = loss_trn = 0\n",
        "        with tqdm(total=len(trn_dl)) as pbar:\n",
        "            model.train()\n",
        "            for i, ds in enumerate(trn_dl):\n",
        "                x, y = ds\n",
        "                #if isinstance(x,tuple): x = x[0]\n",
        "                x, y = x.transpose(1,0), y.transpose(1,0)\n",
        "                loss = step(V(x.long()),V(y.long()),epoch,model,crit,opt)\n",
        "                loss_trn += loss\n",
        "                pbar.update()\n",
        "        model.eval()\n",
        "        for i, ds in enumerate(val_dl):\n",
        "            with torch.no_grad():\n",
        "                x, y = ds\n",
        "                #if isinstance(x,tuple): x = x[0]\n",
        "                x, y = x.transpose(1,0), y.transpose(1,0)\n",
        "                out = model(V(x.long()))\n",
        "                if isinstance(out,tuple): out = out[0]\n",
        "                loss_val+= crit(out, V(y.long()))\n",
        "                #loss_val +=loss\n",
        "        print(f'Epoch: {epoch} trn loss: {loss_trn/len(trn_dl)} val loss: {loss_val/len(val_dl)}')"
      ],
      "execution_count": 0,
      "outputs": []
    },
    {
      "cell_type": "code",
      "metadata": {
        "id": "4nbpRHPoE0a9",
        "colab_type": "code",
        "colab": {}
      },
      "source": [
        "from torch import optim"
      ],
      "execution_count": 0,
      "outputs": []
    },
    {
      "cell_type": "code",
      "metadata": {
        "id": "bVLcWrgDE7Ga",
        "colab_type": "code",
        "colab": {}
      },
      "source": [
        "opt = optim.Adam(seq2seq.parameters(),lr=3e-3,betas=(0.7,0.8))"
      ],
      "execution_count": 0,
      "outputs": []
    },
    {
      "cell_type": "code",
      "metadata": {
        "id": "Cz7MVE2pFEPF",
        "colab_type": "code",
        "colab": {
          "base_uri": "https://localhost:8080/",
          "height": 697
        },
        "outputId": "14be52cc-4b48-47a9-ca90-60db1ff02985"
      },
      "source": [
        "train(trn_dl,val_dl,seq2seq,seq2seq_loss,opt,epochs=20)"
      ],
      "execution_count": 53,
      "outputs": [
        {
          "output_type": "stream",
          "text": [
            "100%|██████████| 33/33 [00:01<00:00, 18.60it/s]\n",
            "  6%|▌         | 2/33 [00:00<00:01, 17.02it/s]"
          ],
          "name": "stderr"
        },
        {
          "output_type": "stream",
          "text": [
            "Epoch: 0 trn loss: 6.142410336118756 val loss: 6.063150882720947\n"
          ],
          "name": "stdout"
        },
        {
          "output_type": "stream",
          "text": [
            "100%|██████████| 33/33 [00:01<00:00, 17.40it/s]\n",
            "  6%|▌         | 2/33 [00:00<00:01, 15.99it/s]"
          ],
          "name": "stderr"
        },
        {
          "output_type": "stream",
          "text": [
            "Epoch: 1 trn loss: 6.021258296388568 val loss: 5.971856117248535\n"
          ],
          "name": "stdout"
        },
        {
          "output_type": "stream",
          "text": [
            "100%|██████████| 33/33 [00:01<00:00, 17.86it/s]\n",
            "  6%|▌         | 2/33 [00:00<00:01, 19.11it/s]"
          ],
          "name": "stderr"
        },
        {
          "output_type": "stream",
          "text": [
            "Epoch: 2 trn loss: 5.954863317085035 val loss: 5.9492058753967285\n"
          ],
          "name": "stdout"
        },
        {
          "output_type": "stream",
          "text": [
            "100%|██████████| 33/33 [00:01<00:00, 18.17it/s]\n",
            "  6%|▌         | 2/33 [00:00<00:01, 19.44it/s]"
          ],
          "name": "stderr"
        },
        {
          "output_type": "stream",
          "text": [
            "Epoch: 3 trn loss: 5.938891670920632 val loss: 5.931576251983643\n"
          ],
          "name": "stdout"
        },
        {
          "output_type": "stream",
          "text": [
            "100%|██████████| 33/33 [00:01<00:00, 18.62it/s]\n",
            "  6%|▌         | 2/33 [00:00<00:01, 19.04it/s]"
          ],
          "name": "stderr"
        },
        {
          "output_type": "stream",
          "text": [
            "Epoch: 4 trn loss: 5.923969601139878 val loss: 5.919101715087891\n"
          ],
          "name": "stdout"
        },
        {
          "output_type": "stream",
          "text": [
            "100%|██████████| 33/33 [00:01<00:00, 19.51it/s]\n",
            "  6%|▌         | 2/33 [00:00<00:01, 19.31it/s]"
          ],
          "name": "stderr"
        },
        {
          "output_type": "stream",
          "text": [
            "Epoch: 5 trn loss: 5.914651162696607 val loss: 5.918360710144043\n"
          ],
          "name": "stdout"
        },
        {
          "output_type": "stream",
          "text": [
            "100%|██████████| 33/33 [00:01<00:00, 19.19it/s]\n",
            "  6%|▌         | 2/33 [00:00<00:01, 19.19it/s]"
          ],
          "name": "stderr"
        },
        {
          "output_type": "stream",
          "text": [
            "Epoch: 6 trn loss: 5.908008560989842 val loss: 5.905571937561035\n"
          ],
          "name": "stdout"
        },
        {
          "output_type": "stream",
          "text": [
            "100%|██████████| 33/33 [00:01<00:00, 19.24it/s]\n",
            "  9%|▉         | 3/33 [00:00<00:01, 19.78it/s]"
          ],
          "name": "stderr"
        },
        {
          "output_type": "stream",
          "text": [
            "Epoch: 7 trn loss: 5.902054064201586 val loss: 5.903380393981934\n"
          ],
          "name": "stdout"
        },
        {
          "output_type": "stream",
          "text": [
            "100%|██████████| 33/33 [00:01<00:00, 19.03it/s]\n",
            "  6%|▌         | 2/33 [00:00<00:01, 19.61it/s]"
          ],
          "name": "stderr"
        },
        {
          "output_type": "stream",
          "text": [
            "Epoch: 8 trn loss: 5.896328767140706 val loss: 5.9022016525268555\n"
          ],
          "name": "stdout"
        },
        {
          "output_type": "stream",
          "text": [
            "100%|██████████| 33/33 [00:01<00:00, 19.24it/s]\n",
            "  6%|▌         | 2/33 [00:00<00:01, 17.55it/s]"
          ],
          "name": "stderr"
        },
        {
          "output_type": "stream",
          "text": [
            "Epoch: 9 trn loss: 5.893186728159587 val loss: 5.8990583419799805\n"
          ],
          "name": "stdout"
        },
        {
          "output_type": "stream",
          "text": [
            "100%|██████████| 33/33 [00:01<00:00, 19.24it/s]\n",
            "  9%|▉         | 3/33 [00:00<00:01, 19.83it/s]"
          ],
          "name": "stderr"
        },
        {
          "output_type": "stream",
          "text": [
            "Epoch: 10 trn loss: 5.88825731566458 val loss: 5.902068138122559\n"
          ],
          "name": "stdout"
        },
        {
          "output_type": "stream",
          "text": [
            "100%|██████████| 33/33 [00:01<00:00, 19.33it/s]\n",
            "  6%|▌         | 2/33 [00:00<00:01, 19.98it/s]"
          ],
          "name": "stderr"
        },
        {
          "output_type": "stream",
          "text": [
            "Epoch: 11 trn loss: 5.885295578927705 val loss: 5.896737575531006\n"
          ],
          "name": "stdout"
        },
        {
          "output_type": "stream",
          "text": [
            "100%|██████████| 33/33 [00:01<00:00, 19.09it/s]\n",
            "  6%|▌         | 2/33 [00:00<00:01, 19.15it/s]"
          ],
          "name": "stderr"
        },
        {
          "output_type": "stream",
          "text": [
            "Epoch: 12 trn loss: 5.881469741012111 val loss: 5.894717693328857\n"
          ],
          "name": "stdout"
        },
        {
          "output_type": "stream",
          "text": [
            "100%|██████████| 33/33 [00:01<00:00, 19.34it/s]\n",
            "  9%|▉         | 3/33 [00:00<00:01, 19.19it/s]"
          ],
          "name": "stderr"
        },
        {
          "output_type": "stream",
          "text": [
            "Epoch: 13 trn loss: 5.8804284876043145 val loss: 5.895835876464844\n"
          ],
          "name": "stdout"
        },
        {
          "output_type": "stream",
          "text": [
            "100%|██████████| 33/33 [00:01<00:00, 18.63it/s]\n",
            "  6%|▌         | 2/33 [00:00<00:01, 18.98it/s]"
          ],
          "name": "stderr"
        },
        {
          "output_type": "stream",
          "text": [
            "Epoch: 14 trn loss: 5.877466375177557 val loss: 5.893429756164551\n"
          ],
          "name": "stdout"
        },
        {
          "output_type": "stream",
          "text": [
            "100%|██████████| 33/33 [00:01<00:00, 17.41it/s]\n",
            "  6%|▌         | 2/33 [00:00<00:01, 17.48it/s]"
          ],
          "name": "stderr"
        },
        {
          "output_type": "stream",
          "text": [
            "Epoch: 15 trn loss: 5.875692150809548 val loss: 5.896014213562012\n"
          ],
          "name": "stdout"
        },
        {
          "output_type": "stream",
          "text": [
            "100%|██████████| 33/33 [00:01<00:00, 18.15it/s]\n",
            "  6%|▌         | 2/33 [00:00<00:01, 19.79it/s]"
          ],
          "name": "stderr"
        },
        {
          "output_type": "stream",
          "text": [
            "Epoch: 16 trn loss: 5.8753546945976485 val loss: 5.890571594238281\n"
          ],
          "name": "stdout"
        },
        {
          "output_type": "stream",
          "text": [
            "100%|██████████| 33/33 [00:01<00:00, 18.35it/s]\n",
            "  6%|▌         | 2/33 [00:00<00:01, 19.28it/s]"
          ],
          "name": "stderr"
        },
        {
          "output_type": "stream",
          "text": [
            "Epoch: 17 trn loss: 5.87238733696215 val loss: 5.893012046813965\n"
          ],
          "name": "stdout"
        },
        {
          "output_type": "stream",
          "text": [
            "100%|██████████| 33/33 [00:01<00:00, 17.75it/s]\n",
            "  6%|▌         | 2/33 [00:00<00:01, 18.24it/s]"
          ],
          "name": "stderr"
        },
        {
          "output_type": "stream",
          "text": [
            "Epoch: 18 trn loss: 5.870857917901241 val loss: 5.895094871520996\n"
          ],
          "name": "stdout"
        },
        {
          "output_type": "stream",
          "text": [
            "100%|██████████| 33/33 [00:01<00:00, 18.58it/s]\n"
          ],
          "name": "stderr"
        },
        {
          "output_type": "stream",
          "text": [
            "Epoch: 19 trn loss: 5.8691605221141465 val loss: 5.893664836883545\n"
          ],
          "name": "stdout"
        }
      ]
    },
    {
      "cell_type": "code",
      "metadata": {
        "id": "p9cU159XFISZ",
        "colab_type": "code",
        "colab": {}
      },
      "source": [
        "# Printing the output\n",
        "\n",
        "def produce_out(val_dl, model,int2en,int2sql,interval=(20,30)):\n",
        "    model.eval()\n",
        "    x,y = next(iter(val_dl))\n",
        "    x, y = x.transpose(1,0), y.transpose(1,0)\n",
        "    probs = seq2seq(V(x.long()))\n",
        "    if isinstance(probs,tuple): probs = probs[0] \n",
        "    preds = A(probs.max(2)[1].cpu())\n",
        "    for i in range(interval[0],interval[1]):\n",
        "        print(' '.join([int2en[o] for o in x[:,i] if o not in [0,1,2]]))\n",
        "        print(''.join([int2sql[o] for o in y[:,i] if o not in [0,1,2]]))\n",
        "        print(''.join([int2sql[o] for o in preds[:,i] if o not in [0,1,2]]))\n",
        "        print()"
      ],
      "execution_count": 0,
      "outputs": []
    },
    {
      "cell_type": "code",
      "metadata": {
        "id": "E4FoP2qPFl5E",
        "colab_type": "code",
        "colab": {
          "base_uri": "https://localhost:8080/",
          "height": 717
        },
        "outputId": "1bb39b77-95f1-4880-cf46-c0ede0ebdf1b"
      },
      "source": [
        "produce_out(trn_dl,seq2seq,int2en,int2sql)"
      ],
      "execution_count": 55,
      "outputs": [
        {
          "output_type": "stream",
          "text": [
            "please show me all airlines with sunday flights from philadelphia to denver\n",
            " SELECTDISTINCTairline_1.airline_codeFROMairlineairline_1,flightflight_1,airport_serviceairport_service_1,citycity_1,airport_serviceairport_service_2,citycity_2,daysdays_1WHEREairline_1.airline_code=flight_1.airline_codeANDflight_1.from_airport=airport_service_1.airport_codeANDairport_service_1.city_code=city_1.city_codeANDcity_1.city_name='PHILADELPHIA'AND(flight_1.to_airport=airport_service_2.airport_codeANDairport_service_2.city_code=city_2.city_codeANDcity_2.city_name='DENVER'ANDflight_1.flight_days=days_1.days_codeANDdays_1.day_name='SUNDAY')\n",
            " SELECTDISTINCTairline_1.airline_codeFROMairlineairline_1,flightflight_1,airport_serviceairport_service_1,citycity_1,airport_serviceairport_service_2,citycity_2,daysdays_1,\n",
            "\n",
            "show me flights from boston to philadelphia on a monday\n",
            " SELECTDISTINCTflight_1.flight_idFROMflightflight_1,airport_serviceairport_service_1,citycity_1,airport_serviceairport_service_2,citycity_2,daysdays_1WHEREflight_1.from_airport=airport_service_1.airport_codeANDairport_service_1.city_code=city_1.city_codeANDcity_1.city_name='BOSTON'AND(flight_1.to_airport=airport_service_2.airport_codeANDairport_service_2.city_code=city_2.city_codeANDcity_2.city_name='PHILADELPHIA'ANDflight_1.flight_days=days_1.days_codeANDdays_1.day_name='MONDAY')\n",
            " SELECTDISTINCTflight_1.flight_idFROMflightflight_1,airport_serviceairport_service_1,citycity_1,airport_serviceairport_service_2,citycity_2,daysdays_1WHEREflight_1.from_airport=airport_service_1.airport_code\n",
            "\n",
            "then list the flights from atlanta to philadelphia early wednesday morning nonstop\n",
            " SELECTDISTINCTflight_1.flight_idFROMflightflight_1,airport_serviceairport_service_1,citycity_1,airport_serviceairport_service_2,citycity_2,daysdays_1,date_daydate_day_1WHEREflight_1.stops=0AND(flight_1.departure_timeBETWEEN0AND800AND(flight_1.from_airport=airport_service_1.airport_codeANDairport_service_1.city_code=city_1.city_codeANDcity_1.city_name='ATLANTA'AND(flight_1.to_airport=airport_service_2.airport_codeANDairport_service_2.city_code=city_2.city_codeANDcity_2.city_name='PHILADELPHIA'ANDflight_1.flight_days=days_1.days_codeANDdays_1.day_name=date_day_1.day_nameANDdate_day_1.year=1991ANDdate_day_1.month_number=4ANDdate_day_1.day_number=23)))\n",
            " SELECTDISTINCTflight_1.flight_idFROMflightflight_1,airport_serviceairport_service_1,citycity_1,airport_serviceairport_service_2,citycity_2,daysdays_1,date_daydate_day_1WHERE\n",
            "\n",
            "list all flights from baltimore to philadelphia\n",
            " SELECTDISTINCTflight_1.flight_idFROMflightflight_1,airport_serviceairport_service_1,citycity_1,airport_serviceairport_service_2,citycity_2WHEREflight_1.from_airport=airport_service_1.airport_codeANDairport_service_1.city_code=city_1.city_codeANDcity_1.city_name='BALTIMORE'ANDflight_1.to_airport=airport_service_2.airport_codeANDairport_service_2.city_code=city_2.city_codeANDcity_2.city_name='PHILADELPHIA'\n",
            " SELECTDISTINCTflight_1.flight_idFROMflightflight_1,airport_serviceairport_service_1,citycity_1,airport_serviceairport_service_2,citycity_2WHEREflight_1.from_airport=airport_service_1.airport_codeANDairport_service_1.city_code=\n",
            "\n",
            "next sunday flights from miami to cleveland after 1200 hours\n",
            " SELECTDISTINCTflight_1.flight_idFROMflightflight_1,airport_serviceairport_service_1,citycity_1,airport_serviceairport_service_2,citycity_2,daysdays_1,date_daydate_day_1WHEREflight_1.from_airport=airport_service_1.airport_codeANDairport_service_1.city_code=city_1.city_codeANDcity_1.city_name='MIAMI'AND(flight_1.to_airport=airport_service_2.airport_codeANDairport_service_2.city_code=city_2.city_codeANDcity_2.city_name='CLEVELAND'AND(flight_1.flight_days=days_1.days_codeANDdays_1.day_name=date_day_1.day_nameANDdate_day_1.year=1991ANDdate_day_1.month_number=8ANDdate_day_1.day_number=27ANDflight_1.departure_time>1200))\n",
            " SELECTDISTINCTflight_1.flight_idFROMflightflight_1,airport_serviceairport_service_1,citycity_1,airport_serviceairport_service_2,citycity_2,daysdays_1,date_daydate_day_1WHERE\n",
            "\n",
            "show me the most expensive one way flight from detroit to westchester county\n",
            " SELECTDISTINCTflight_1.flight_idFROMflightflight_1,airport_serviceairport_service_1,citycity_1,airport_serviceairport_service_2,citycity_2,flight_fareflight_fare_1,farefare_1,flight_fareflight_fare_2,flightflight_2,airport_serviceairport_service_3,citycity_3,airport_serviceairport_service_4,citycity_4WHEREflight_1.from_airport=airport_service_1.airport_codeANDairport_service_1.city_code=city_1.city_codeANDcity_1.city_name='DETROIT'AND(flight_1.to_airport=airport_service_2.airport_codeANDairport_service_2.city_code=city_2.city_codeANDcity_2.city_name='WESTCHESTERCOUNTY'ANDflight_1.flight_id=flight_fare_1.flight_idANDflight_fare_1.fare_id=fare_1.fare_idANDfare_1.one_direction_cost=(SELECTMAX(fare_1.one_direction_cost)FROMfarefare_1,flight_fareflight_fare_1,flightflight_1,airport_serviceairport_service_1,citycity_1,airport_serviceairport_service_2,citycity_2WHEREfare_1.round_trip_required='NO'ANDfare_1.fare_id=flight_fare_1.fare_idANDflight_fare_1.flight_id=flight_1.flight_idANDflight_1.from_airport=airport_service_1.airport_codeANDairport_service_1.city_code=city_1.city_codeANDcity_1.city_name='DETROIT'ANDflight_1.to_airport=airport_service_2.airport_codeANDairport_service_2.city_code=city_2.city_codeANDcity_2.city_name='WESTCHESTERCOUNTY')ANDfare_1.round_trip_required='NO'ANDfare_1.fare_id=flight_fare_2.fare_idANDflight_fare_2.flight_id=flight_2.flight_idANDflight_2.from_airport=airport_service_3.airport_codeANDairport_service_3.city_code=city_3.city_codeANDcity_3.city_name='DETROIT'ANDflight_2.to_airport=airport_service_4.airport_codeANDairport_service_4.city_code=city_4.city_codeANDcity_4.city_name='WESTCHESTERCOUNTY')\n",
            " SELECTDISTINCTflight_1.flight_idFROMflightflight_1,airport_serviceairport_service_1,citycity_1,airport_serviceairport_service_2,citycity_2,flight_fareflight_fare_1,farefare_1WHERE\n",
            "\n",
            "i would like to fly from denver to pittsburgh and atlanta\n",
            " SELECTDISTINCTflight_1.flight_idFROMflightflight_1,airport_serviceairport_service_1,citycity_1,airport_serviceairport_service_2,citycity_2,flight_stopflight_stop_1,airport_serviceairport_service_3,citycity_3WHEREflight_1.from_airport=airport_service_1.airport_codeANDairport_service_1.city_code=city_1.city_codeANDcity_1.city_name='DENVER'AND(flight_1.to_airport=airport_service_2.airport_codeANDairport_service_2.city_code=city_2.city_codeANDcity_2.city_name='ATLANTA'ANDflight_1.flight_id=flight_stop_1.flight_idANDflight_stop_1.stop_airport=airport_service_3.airport_codeANDairport_service_3.city_code=city_3.city_codeANDcity_3.city_name='PITTSBURGH')\n",
            " SELECTDISTINCTflight_1.flight_idFROMflightflight_1,airport_serviceairport_service_1,citycity_1,airport_serviceairport_service_2,citycity_2,flight_stopflight_stop_1,airport_serviceairport_service_3,\n",
            "\n",
            "ground transportation baltimore\n",
            " SELECTDISTINCTground_service_1.transport_typeFROMground_serviceground_service_1,citycity_1WHEREground_service_1.city_code=city_1.city_codeANDcity_1.city_name='BALTIMORE'\n",
            " SELECTDISTINCTground_service_1.transport_typeFROMground_serviceground_service_1,citycity_1WHEREground_service_1.city_code=city_1.city_codeANDcity_1.city_name='SAN'\n",
            "\n",
            "ground transportation between airport and downtown in boston\n",
            " SELECTDISTINCTground_service_1.transport_typeFROMground_serviceground_service_1,airportairport_1,citycity_1WHEREground_service_1.airport_code=airport_1.airport_codeANDairport_1.airport_code='BOS'ANDground_service_1.city_code=city_1.city_codeANDcity_1.city_name='BOSTON'\n",
            " SELECTDISTINCTground_service_1.transport_typeFROMground_serviceground_service_1,airportairport_1,citycity_1,ground_service_1.airport_code=airport_1.airport_codeANDairport_1.airport_code='airport_1.airport_code'ANDground_service_1.city_code=\n",
            "\n",
            "list a round trip fare from kansas city to minneapolis flights\n",
            " SELECTDISTINCTfare_1.fare_idFROMfarefare_1,flight_fareflight_fare_1,flightflight_1,airport_serviceairport_service_1,citycity_1,airport_serviceairport_service_2,citycity_2WHEREfare_1.round_trip_costISNOTNULLANDfare_1.fare_id=flight_fare_1.fare_idANDflight_fare_1.flight_id=flight_1.flight_idANDflight_1.from_airport=airport_service_1.airport_codeANDairport_service_1.city_code=city_1.city_codeANDcity_1.city_name='KANSASCITY'ANDflight_1.to_airport=airport_service_2.airport_codeANDairport_service_2.city_code=city_2.city_codeANDcity_2.city_name='MINNEAPOLIS'\n",
            " SELECTDISTINCTfare_1.fare_idFROMfarefare_1,flight_fareflight_fare_1,flightflight_1,airport_serviceairport_service_1,citycity_1,airport_serviceairport_service_2,citycity_2WHERE\n",
            "\n"
          ],
          "name": "stdout"
        }
      ]
    },
    {
      "cell_type": "code",
      "metadata": {
        "id": "b3tiXHpcFqgg",
        "colab_type": "code",
        "colab": {}
      },
      "source": [
        "torch.save(seq2seq.state_dict(),open('translate_seq2seq.pth','wb'))"
      ],
      "execution_count": 0,
      "outputs": []
    },
    {
      "cell_type": "code",
      "metadata": {
        "id": "y1wSW-ySGRqr",
        "colab_type": "code",
        "colab": {}
      },
      "source": [
        ""
      ],
      "execution_count": 0,
      "outputs": []
    },
    {
      "cell_type": "code",
      "metadata": {
        "id": "_zDJOMvgGSro",
        "colab_type": "code",
        "colab": {}
      },
      "source": [
        "seq2seq.load_state_dict(torch.load('translate_seq2seq.pth', map_location=lambda storage, loc: storage))"
      ],
      "execution_count": 0,
      "outputs": []
    },
    {
      "cell_type": "code",
      "metadata": {
        "id": "02bxjH_NGeR2",
        "colab_type": "code",
        "colab": {}
      },
      "source": [
        ""
      ],
      "execution_count": 0,
      "outputs": []
    }
  ]
}