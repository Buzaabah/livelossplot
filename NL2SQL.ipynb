{
  "nbformat": 4,
  "nbformat_minor": 0,
  "metadata": {
    "colab": {
      "name": "Untitled6.ipynb",
      "version": "0.3.2",
      "provenance": [],
      "collapsed_sections": [],
      "include_colab_link": true
    },
    "kernelspec": {
      "name": "python3",
      "display_name": "Python 3"
    },
    "accelerator": "GPU"
  },
  "cells": [
    {
      "cell_type": "markdown",
      "metadata": {
        "id": "view-in-github",
        "colab_type": "text"
      },
      "source": [
        "<a href=\"https://colab.research.google.com/github/Buzaabah/livelossplot/blob/master/NL2SQL.ipynb\" target=\"_parent\"><img src=\"https://colab.research.google.com/assets/colab-badge.svg\" alt=\"Open In Colab\"/></a>"
      ]
    },
    {
      "cell_type": "code",
      "metadata": {
        "id": "JRkp-3oRQliv",
        "colab_type": "code",
        "colab": {
          "base_uri": "https://localhost:8080/",
          "height": 122
        },
        "outputId": "5646c0a4-1a29-4a55-b57a-eebfa9d4cc6f"
      },
      "source": [
        "from google.colab import drive\n",
        "drive.mount('/content/drive')"
      ],
      "execution_count": 3,
      "outputs": [
        {
          "output_type": "stream",
          "text": [
            "Go to this URL in a browser: https://accounts.google.com/o/oauth2/auth?client_id=947318989803-6bn6qk8qdgf4n4g3pfee6491hc0brc4i.apps.googleusercontent.com&redirect_uri=urn%3Aietf%3Awg%3Aoauth%3A2.0%3Aoob&scope=email%20https%3A%2F%2Fwww.googleapis.com%2Fauth%2Fdocs.test%20https%3A%2F%2Fwww.googleapis.com%2Fauth%2Fdrive%20https%3A%2F%2Fwww.googleapis.com%2Fauth%2Fdrive.photos.readonly%20https%3A%2F%2Fwww.googleapis.com%2Fauth%2Fpeopleapi.readonly&response_type=code\n",
            "\n",
            "Enter your authorization code:\n",
            "··········\n",
            "Mounted at /content/drive\n"
          ],
          "name": "stdout"
        }
      ]
    },
    {
      "cell_type": "code",
      "metadata": {
        "id": "ON2dR38UTrL2",
        "colab_type": "code",
        "colab": {}
      },
      "source": [
        "cd original\\ copy"
      ],
      "execution_count": 0,
      "outputs": []
    },
    {
      "cell_type": "code",
      "metadata": {
        "id": "1ZFkzeBgSDOX",
        "colab_type": "code",
        "colab": {}
      },
      "source": [
        "#Important parckages\n",
        "\n",
        "%matplotlib inline\n",
        "\n",
        "import re,string\n",
        "import numpy as np\n",
        "import pickle\n",
        "import spacy\n",
        "from spacy.symbols import ORTH\n",
        "\n",
        "en_tok = spacy.load('en')\n",
        "\n"
      ],
      "execution_count": 0,
      "outputs": []
    },
    {
      "cell_type": "code",
      "metadata": {
        "id": "rhU9aTSFUHq4",
        "colab_type": "code",
        "colab": {
          "base_uri": "https://localhost:8080/",
          "height": 122
        },
        "outputId": "9511ba35-d995-448f-fdbd-40f12d6ec55a"
      },
      "source": [
        "#Reading required data\n",
        "\n",
        "train_data = open('atis.uw.train.txt').readlines()\n",
        "train_data[:5]"
      ],
      "execution_count": 11,
      "outputs": [
        {
          "output_type": "execute_result",
          "data": {
            "text/plain": [
              "[\"list all the flights that arrive at general mitchell international from various cities ||| SELECT DISTINCT flight_1.flight_id FROM flight flight_1 , airport airport_1 , airport_service airport_service_1 , city city_1 WHERE flight_1.to_airport = airport_1.airport_code AND airport_1.airport_code = 'MKE' AND flight_1.from_airport = airport_service_1.airport_code AND airport_service_1.city_code = city_1.city_code\\n\",\n",
              " \"give me the flights leaving denver august ninth coming back to boston ||| SELECT DISTINCT flight_1.flight_id FROM flight flight_1 , airport_service airport_service_1 , city city_1 , airport_service airport_service_2 , city city_2 , days days_1 , date_day date_day_1 WHERE flight_1.from_airport = airport_service_1.airport_code AND airport_service_1.city_code = city_1.city_code AND city_1.city_name = 'DENVER' AND ( flight_1.to_airport = airport_service_2.airport_code AND airport_service_2.city_code = city_2.city_code AND city_2.city_name = 'BOSTON' AND flight_1.flight_days = days_1.days_code AND days_1.day_name = date_day_1.day_name AND date_day_1.year = 1991 AND date_day_1.month_number = 8 AND date_day_1.day_number = 9 )\\n\",\n",
              " \"what flights from tacoma to orlando on saturday ||| SELECT DISTINCT flight_1.flight_id FROM flight flight_1 , airport_service airport_service_1 , city city_1 , airport_service airport_service_2 , city city_2 , days days_1 , date_day date_day_1 WHERE flight_1.from_airport = airport_service_1.airport_code AND airport_service_1.city_code = city_1.city_code AND city_1.city_name = 'TACOMA' AND ( flight_1.to_airport = airport_service_2.airport_code AND airport_service_2.city_code = city_2.city_code AND city_2.city_name = 'ORLANDO' AND flight_1.flight_days = days_1.days_code AND days_1.day_name = date_day_1.day_name AND date_day_1.year = 1991 AND date_day_1.month_number = 7 AND date_day_1.day_number = 26 )\\n\",\n",
              " \"what is the most expensive one way fare from boston to atlanta on american airlines ||| SELECT DISTINCT fare_1.fare_id FROM fare fare_1 , flight_fare flight_fare_1 , flight flight_1 , airport_service airport_service_1 , city city_1 , airport_service airport_service_2 , city city_2 WHERE fare_1.one_direction_cost = ( SELECT MAX ( fare_1.one_direction_cost ) FROM fare fare_1 , flight_fare flight_fare_1 , flight flight_1 , airport_service airport_service_1 , city city_1 , airport_service airport_service_2 , city city_2 WHERE fare_1.round_trip_required = 'NO' AND fare_1.fare_id = flight_fare_1.fare_id AND flight_fare_1.flight_id = flight_1.flight_id AND flight_1.airline_code = 'AA' AND ( flight_1.from_airport = airport_service_1.airport_code AND airport_service_1.city_code = city_1.city_code AND city_1.city_name = 'BOSTON' AND flight_1.to_airport = airport_service_2.airport_code AND airport_service_2.city_code = city_2.city_code AND city_2.city_name = 'ATLANTA' ) ) AND fare_1.fare_id = flight_fare_1.fare_id AND flight_fare_1.flight_id = flight_1.flight_id AND flight_1.airline_code = 'AA' AND ( flight_1.from_airport = airport_service_1.airport_code AND airport_service_1.city_code = city_1.city_code AND city_1.city_name = 'BOSTON' AND flight_1.to_airport = airport_service_2.airport_code AND airport_service_2.city_code = city_2.city_code AND city_2.city_name = 'ATLANTA' )\\n\",\n",
              " \"what flights return from denver to philadelphia on a saturday ||| SELECT DISTINCT flight_1.flight_id FROM flight flight_1 , airport_service airport_service_1 , city city_1 , airport_service airport_service_2 , city city_2 , days days_1 WHERE flight_1.from_airport = airport_service_1.airport_code AND airport_service_1.city_code = city_1.city_code AND city_1.city_name = 'DENVER' AND ( flight_1.to_airport = airport_service_2.airport_code AND airport_service_2.city_code = city_2.city_code AND city_2.city_name = 'PHILADELPHIA' AND flight_1.flight_days = days_1.days_code AND days_1.day_name = 'SATURDAY' )\\n\"]"
            ]
          },
          "metadata": {
            "tags": []
          },
          "execution_count": 11
        }
      ]
    },
    {
      "cell_type": "code",
      "metadata": {
        "id": "Yo2hZpgSUnup",
        "colab_type": "code",
        "colab": {
          "base_uri": "https://localhost:8080/",
          "height": 122
        },
        "outputId": "85513355-37f7-4fa9-8d06-d05fe749a983"
      },
      "source": [
        "test_data = open('atis.uw.test.txt').readlines()\n",
        "test_data[:5]"
      ],
      "execution_count": 12,
      "outputs": [
        {
          "output_type": "execute_result",
          "data": {
            "text/plain": [
              "[\"what flights go from dallas to phoenix ||| SELECT DISTINCT flight.flight_id FROM flight WHERE ( flight.from_airport IN ( SELECT airport_service.airport_code FROM airport_service WHERE airport_service.city_code IN ( SELECT city.city_code FROM city WHERE city.city_name = 'DALLAS' )) AND flight.to_airport IN ( SELECT airport_service.airport_code FROM airport_service WHERE airport_service.city_code IN ( SELECT city.city_code FROM city WHERE city.city_name = 'PHOENIX' )) )\\n\",\n",
              " \"what flights go from phoenix to salt lake city ||| SELECT DISTINCT flight.flight_id FROM flight WHERE ( flight.from_airport IN ( SELECT airport_service.airport_code FROM airport_service WHERE airport_service.city_code IN ( SELECT city.city_code FROM city WHERE city.city_name = 'PHOENIX' )) AND flight.to_airport IN ( SELECT airport_service.airport_code FROM airport_service WHERE airport_service.city_code IN ( SELECT city.city_code FROM city WHERE city.city_name = 'SALT LAKE CITY' )) )\\n\",\n",
              " \"i need an early flight from milwaukee to denver ||| SELECT DISTINCT flight.flight_id FROM flight WHERE ( flight.departure_time BETWEEN 0 AND 1000 AND ( flight.from_airport IN ( SELECT airport_service.airport_code FROM airport_service WHERE airport_service.city_code IN ( SELECT city.city_code FROM city WHERE city.city_name = 'MILWAUKEE' )) AND flight.to_airport IN ( SELECT airport_service.airport_code FROM airport_service WHERE airport_service.city_code IN ( SELECT city.city_code FROM city WHERE city.city_name = 'DENVER' )) ) )\\n\",\n",
              " \"what types of ground transportation are available in denver ||| SELECT DISTINCT ground_service.transport_type FROM ground_service WHERE ground_service.city_code IN ( SELECT city.city_code FROM city WHERE city.city_name = 'DENVER' )\\n\",\n",
              " \"what flights go from denver to st. louis on tuesday morning ||| SELECT DISTINCT flight.flight_id FROM flight WHERE ( flight.departure_time BETWEEN 0 AND 1200 AND ( flight.from_airport IN ( SELECT airport_service.airport_code FROM airport_service WHERE airport_service.city_code IN ( SELECT city.city_code FROM city WHERE city.city_name = 'DENVER' )) AND ( flight.to_airport IN ( SELECT airport_service.airport_code FROM airport_service WHERE airport_service.city_code IN ( SELECT city.city_code FROM city WHERE city.city_name = 'ST. LOUIS' )) AND flight.flight_days IN ( SELECT days.days_code FROM days WHERE days.day_name IN ( SELECT date_day.day_name FROM date_day WHERE date_day.year = 1991 AND date_day.month_number = 3 AND date_day.day_number = 22 ) ) ) ) )\\n\"]"
            ]
          },
          "metadata": {
            "tags": []
          },
          "execution_count": 12
        }
      ]
    },
    {
      "cell_type": "code",
      "metadata": {
        "id": "m0zs0nOlVLAK",
        "colab_type": "code",
        "colab": {}
      },
      "source": [
        "# making a corpus\n",
        "\n",
        "def make_corpus(corpus_path):\n",
        "    en,sql = [],[]\n",
        "    for line in train_data:\n",
        "        if '\\n' in line:\n",
        "            new_line = line.replace('\\n','')\n",
        "            new_line = new_line.split('|||')\n",
        "            en.append(new_line[0])\n",
        "            sql.append(new_line[1])\n",
        "    return en,sql"
      ],
      "execution_count": 0,
      "outputs": []
    },
    {
      "cell_type": "code",
      "metadata": {
        "id": "aM5UU8DjXJ57",
        "colab_type": "code",
        "colab": {
          "base_uri": "https://localhost:8080/",
          "height": 105
        },
        "outputId": "4e4ef6be-c414-45ff-edec-2e122e1bd30b"
      },
      "source": [
        "#unpacking the corpus\n",
        "\n",
        "en, sql = make_corpus('atis.uw.train.txt')\n",
        "en[:2],sql[:2]"
      ],
      "execution_count": 16,
      "outputs": [
        {
          "output_type": "execute_result",
          "data": {
            "text/plain": [
              "(['list all the flights that arrive at general mitchell international from various cities ',\n",
              "  'give me the flights leaving denver august ninth coming back to boston '],\n",
              " [\" SELECT DISTINCT flight_1.flight_id FROM flight flight_1 , airport airport_1 , airport_service airport_service_1 , city city_1 WHERE flight_1.to_airport = airport_1.airport_code AND airport_1.airport_code = 'MKE' AND flight_1.from_airport = airport_service_1.airport_code AND airport_service_1.city_code = city_1.city_code\",\n",
              "  \" SELECT DISTINCT flight_1.flight_id FROM flight flight_1 , airport_service airport_service_1 , city city_1 , airport_service airport_service_2 , city city_2 , days days_1 , date_day date_day_1 WHERE flight_1.from_airport = airport_service_1.airport_code AND airport_service_1.city_code = city_1.city_code AND city_1.city_name = 'DENVER' AND ( flight_1.to_airport = airport_service_2.airport_code AND airport_service_2.city_code = city_2.city_code AND city_2.city_name = 'BOSTON' AND flight_1.flight_days = days_1.days_code AND days_1.day_name = date_day_1.day_name AND date_day_1.year = 1991 AND date_day_1.month_number = 8 AND date_day_1.day_number = 9 )\"])"
            ]
          },
          "metadata": {
            "tags": []
          },
          "execution_count": 16
        }
      ]
    },
    {
      "cell_type": "code",
      "metadata": {
        "id": "MrqVWmftXgNd",
        "colab_type": "code",
        "colab": {}
      },
      "source": [
        "#pre-processing for tokenizing \n",
        "# Natural language tokens\n",
        "\n",
        "def en_tokenizer(text):\n",
        "    text = text.lower()\n",
        "    return [t.text for t in en_tok.tokenizer(text)]\n",
        "  \n",
        "#SQL tokens\n",
        "def en_tokenizer(text):\n",
        "    text = text\n",
        "    return [t.text for t in en_tok.tokenizer(text)]"
      ],
      "execution_count": 0,
      "outputs": []
    },
    {
      "cell_type": "code",
      "metadata": {
        "id": "7L50Vb10Yp8N",
        "colab_type": "code",
        "colab": {
          "base_uri": "https://localhost:8080/",
          "height": 1000
        },
        "outputId": "a991c2d5-128f-40c7-d992-3d4b4861a557"
      },
      "source": [
        "# Tokens\n",
        "\n",
        "en_toks = [en_tokenizer(text) for text in en]\n",
        "sql_toks = [en_tokenizer(text) for text in sql]\n",
        "en_toks[:2], sql_toks[:2]"
      ],
      "execution_count": 18,
      "outputs": [
        {
          "output_type": "execute_result",
          "data": {
            "text/plain": [
              "([['list',\n",
              "   'all',\n",
              "   'the',\n",
              "   'flights',\n",
              "   'that',\n",
              "   'arrive',\n",
              "   'at',\n",
              "   'general',\n",
              "   'mitchell',\n",
              "   'international',\n",
              "   'from',\n",
              "   'various',\n",
              "   'cities'],\n",
              "  ['give',\n",
              "   'me',\n",
              "   'the',\n",
              "   'flights',\n",
              "   'leaving',\n",
              "   'denver',\n",
              "   'august',\n",
              "   'ninth',\n",
              "   'coming',\n",
              "   'back',\n",
              "   'to',\n",
              "   'boston']],\n",
              " [[' ',\n",
              "   'SELECT',\n",
              "   'DISTINCT',\n",
              "   'flight_1.flight_id',\n",
              "   'FROM',\n",
              "   'flight',\n",
              "   'flight_1',\n",
              "   ',',\n",
              "   'airport',\n",
              "   'airport_1',\n",
              "   ',',\n",
              "   'airport_service',\n",
              "   'airport_service_1',\n",
              "   ',',\n",
              "   'city',\n",
              "   'city_1',\n",
              "   'WHERE',\n",
              "   'flight_1.to_airport',\n",
              "   '=',\n",
              "   'airport_1.airport_code',\n",
              "   'AND',\n",
              "   'airport_1.airport_code',\n",
              "   '=',\n",
              "   \"'\",\n",
              "   'MKE',\n",
              "   \"'\",\n",
              "   'AND',\n",
              "   'flight_1.from_airport',\n",
              "   '=',\n",
              "   'airport_service_1.airport_code',\n",
              "   'AND',\n",
              "   'airport_service_1.city_code',\n",
              "   '=',\n",
              "   'city_1.city_code'],\n",
              "  [' ',\n",
              "   'SELECT',\n",
              "   'DISTINCT',\n",
              "   'flight_1.flight_id',\n",
              "   'FROM',\n",
              "   'flight',\n",
              "   'flight_1',\n",
              "   ',',\n",
              "   'airport_service',\n",
              "   'airport_service_1',\n",
              "   ',',\n",
              "   'city',\n",
              "   'city_1',\n",
              "   ',',\n",
              "   'airport_service',\n",
              "   'airport_service_2',\n",
              "   ',',\n",
              "   'city',\n",
              "   'city_2',\n",
              "   ',',\n",
              "   'days',\n",
              "   'days_1',\n",
              "   ',',\n",
              "   'date_day',\n",
              "   'date_day_1',\n",
              "   'WHERE',\n",
              "   'flight_1.from_airport',\n",
              "   '=',\n",
              "   'airport_service_1.airport_code',\n",
              "   'AND',\n",
              "   'airport_service_1.city_code',\n",
              "   '=',\n",
              "   'city_1.city_code',\n",
              "   'AND',\n",
              "   'city_1.city_name',\n",
              "   '=',\n",
              "   \"'\",\n",
              "   'DENVER',\n",
              "   \"'\",\n",
              "   'AND',\n",
              "   '(',\n",
              "   'flight_1.to_airport',\n",
              "   '=',\n",
              "   'airport_service_2.airport_code',\n",
              "   'AND',\n",
              "   'airport_service_2.city_code',\n",
              "   '=',\n",
              "   'city_2.city_code',\n",
              "   'AND',\n",
              "   'city_2.city_name',\n",
              "   '=',\n",
              "   \"'\",\n",
              "   'BOSTON',\n",
              "   \"'\",\n",
              "   'AND',\n",
              "   'flight_1.flight_days',\n",
              "   '=',\n",
              "   'days_1.days_code',\n",
              "   'AND',\n",
              "   'days_1.day_name',\n",
              "   '=',\n",
              "   'date_day_1.day_name',\n",
              "   'AND',\n",
              "   'date_day_1.year',\n",
              "   '=',\n",
              "   '1991',\n",
              "   'AND',\n",
              "   'date_day_1.month_number',\n",
              "   '=',\n",
              "   '8',\n",
              "   'AND',\n",
              "   'date_day_1.day_number',\n",
              "   '=',\n",
              "   '9',\n",
              "   ')']])"
            ]
          },
          "metadata": {
            "tags": []
          },
          "execution_count": 18
        }
      ]
    },
    {
      "cell_type": "code",
      "metadata": {
        "id": "DyVZE0gKZCsL",
        "colab_type": "code",
        "colab": {}
      },
      "source": [
        ""
      ],
      "execution_count": 0,
      "outputs": []
    }
  ]
}