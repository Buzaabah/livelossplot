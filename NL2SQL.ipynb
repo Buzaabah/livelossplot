{
  "nbformat": 4,
  "nbformat_minor": 0,
  "metadata": {
    "colab": {
      "name": "Untitled6.ipynb",
      "version": "0.3.2",
      "provenance": [],
      "collapsed_sections": [],
      "include_colab_link": true
    },
    "kernelspec": {
      "name": "python3",
      "display_name": "Python 3"
    },
    "accelerator": "GPU"
  },
  "cells": [
    {
      "cell_type": "markdown",
      "metadata": {
        "id": "view-in-github",
        "colab_type": "text"
      },
      "source": [
        "<a href=\"https://colab.research.google.com/github/Buzaabah/livelossplot/blob/master/NL2SQL.ipynb\" target=\"_parent\"><img src=\"https://colab.research.google.com/assets/colab-badge.svg\" alt=\"Open In Colab\"/></a>"
      ]
    },
    {
      "cell_type": "code",
      "metadata": {
        "id": "JRkp-3oRQliv",
        "colab_type": "code",
        "colab": {
          "base_uri": "https://localhost:8080/",
          "height": 122
        },
        "outputId": "5646c0a4-1a29-4a55-b57a-eebfa9d4cc6f"
      },
      "source": [
        "from google.colab import drive\n",
        "drive.mount('/content/drive')"
      ],
      "execution_count": 3,
      "outputs": [
        {
          "output_type": "stream",
          "text": [
            "Go to this URL in a browser: https://accounts.google.com/o/oauth2/auth?client_id=947318989803-6bn6qk8qdgf4n4g3pfee6491hc0brc4i.apps.googleusercontent.com&redirect_uri=urn%3Aietf%3Awg%3Aoauth%3A2.0%3Aoob&scope=email%20https%3A%2F%2Fwww.googleapis.com%2Fauth%2Fdocs.test%20https%3A%2F%2Fwww.googleapis.com%2Fauth%2Fdrive%20https%3A%2F%2Fwww.googleapis.com%2Fauth%2Fdrive.photos.readonly%20https%3A%2F%2Fwww.googleapis.com%2Fauth%2Fpeopleapi.readonly&response_type=code\n",
            "\n",
            "Enter your authorization code:\n",
            "··········\n",
            "Mounted at /content/drive\n"
          ],
          "name": "stdout"
        }
      ]
    },
    {
      "cell_type": "code",
      "metadata": {
        "id": "ON2dR38UTrL2",
        "colab_type": "code",
        "colab": {}
      },
      "source": [
        "cd original\\ copy"
      ],
      "execution_count": 0,
      "outputs": []
    },
    {
      "cell_type": "code",
      "metadata": {
        "id": "1ZFkzeBgSDOX",
        "colab_type": "code",
        "colab": {}
      },
      "source": [
        "#Important parckages\n",
        "\n",
        "%matplotlib inline\n",
        "\n",
        "import re,string\n",
        "import numpy as np\n",
        "import pickle\n",
        "import spacy\n",
        "from spacy.symbols import ORTH\n",
        "\n",
        "en_tok = spacy.load('en')\n",
        "\n",
        "from collections import Counter,defaultdict\n",
        "from pathlib import Path\n"
      ],
      "execution_count": 0,
      "outputs": []
    },
    {
      "cell_type": "code",
      "metadata": {
        "id": "rhU9aTSFUHq4",
        "colab_type": "code",
        "colab": {
          "base_uri": "https://localhost:8080/",
          "height": 122
        },
        "outputId": "75e50ed7-b85a-47ee-d7d9-666232da5738"
      },
      "source": [
        "#Reading required data\n",
        "\n",
        "train_data = open('atis.uw.train.txt').readlines()\n",
        "train_data[:5]\n",
        "#len(train_data)"
      ],
      "execution_count": 53,
      "outputs": [
        {
          "output_type": "execute_result",
          "data": {
            "text/plain": [
              "[\"list all the flights that arrive at general mitchell international from various cities ||| SELECT DISTINCT flight_1.flight_id FROM flight flight_1 , airport airport_1 , airport_service airport_service_1 , city city_1 WHERE flight_1.to_airport = airport_1.airport_code AND airport_1.airport_code = 'MKE' AND flight_1.from_airport = airport_service_1.airport_code AND airport_service_1.city_code = city_1.city_code\\n\",\n",
              " \"give me the flights leaving denver august ninth coming back to boston ||| SELECT DISTINCT flight_1.flight_id FROM flight flight_1 , airport_service airport_service_1 , city city_1 , airport_service airport_service_2 , city city_2 , days days_1 , date_day date_day_1 WHERE flight_1.from_airport = airport_service_1.airport_code AND airport_service_1.city_code = city_1.city_code AND city_1.city_name = 'DENVER' AND ( flight_1.to_airport = airport_service_2.airport_code AND airport_service_2.city_code = city_2.city_code AND city_2.city_name = 'BOSTON' AND flight_1.flight_days = days_1.days_code AND days_1.day_name = date_day_1.day_name AND date_day_1.year = 1991 AND date_day_1.month_number = 8 AND date_day_1.day_number = 9 )\\n\",\n",
              " \"what flights from tacoma to orlando on saturday ||| SELECT DISTINCT flight_1.flight_id FROM flight flight_1 , airport_service airport_service_1 , city city_1 , airport_service airport_service_2 , city city_2 , days days_1 , date_day date_day_1 WHERE flight_1.from_airport = airport_service_1.airport_code AND airport_service_1.city_code = city_1.city_code AND city_1.city_name = 'TACOMA' AND ( flight_1.to_airport = airport_service_2.airport_code AND airport_service_2.city_code = city_2.city_code AND city_2.city_name = 'ORLANDO' AND flight_1.flight_days = days_1.days_code AND days_1.day_name = date_day_1.day_name AND date_day_1.year = 1991 AND date_day_1.month_number = 7 AND date_day_1.day_number = 26 )\\n\",\n",
              " \"what is the most expensive one way fare from boston to atlanta on american airlines ||| SELECT DISTINCT fare_1.fare_id FROM fare fare_1 , flight_fare flight_fare_1 , flight flight_1 , airport_service airport_service_1 , city city_1 , airport_service airport_service_2 , city city_2 WHERE fare_1.one_direction_cost = ( SELECT MAX ( fare_1.one_direction_cost ) FROM fare fare_1 , flight_fare flight_fare_1 , flight flight_1 , airport_service airport_service_1 , city city_1 , airport_service airport_service_2 , city city_2 WHERE fare_1.round_trip_required = 'NO' AND fare_1.fare_id = flight_fare_1.fare_id AND flight_fare_1.flight_id = flight_1.flight_id AND flight_1.airline_code = 'AA' AND ( flight_1.from_airport = airport_service_1.airport_code AND airport_service_1.city_code = city_1.city_code AND city_1.city_name = 'BOSTON' AND flight_1.to_airport = airport_service_2.airport_code AND airport_service_2.city_code = city_2.city_code AND city_2.city_name = 'ATLANTA' ) ) AND fare_1.fare_id = flight_fare_1.fare_id AND flight_fare_1.flight_id = flight_1.flight_id AND flight_1.airline_code = 'AA' AND ( flight_1.from_airport = airport_service_1.airport_code AND airport_service_1.city_code = city_1.city_code AND city_1.city_name = 'BOSTON' AND flight_1.to_airport = airport_service_2.airport_code AND airport_service_2.city_code = city_2.city_code AND city_2.city_name = 'ATLANTA' )\\n\",\n",
              " \"what flights return from denver to philadelphia on a saturday ||| SELECT DISTINCT flight_1.flight_id FROM flight flight_1 , airport_service airport_service_1 , city city_1 , airport_service airport_service_2 , city city_2 , days days_1 WHERE flight_1.from_airport = airport_service_1.airport_code AND airport_service_1.city_code = city_1.city_code AND city_1.city_name = 'DENVER' AND ( flight_1.to_airport = airport_service_2.airport_code AND airport_service_2.city_code = city_2.city_code AND city_2.city_name = 'PHILADELPHIA' AND flight_1.flight_days = days_1.days_code AND days_1.day_name = 'SATURDAY' )\\n\"]"
            ]
          },
          "metadata": {
            "tags": []
          },
          "execution_count": 53
        }
      ]
    },
    {
      "cell_type": "code",
      "metadata": {
        "id": "Yo2hZpgSUnup",
        "colab_type": "code",
        "colab": {
          "base_uri": "https://localhost:8080/",
          "height": 34
        },
        "outputId": "2bccb9bb-d4f4-4308-e0c8-87278c24f48b"
      },
      "source": [
        "test_data = open('atis.uw.test.txt').readlines()\n",
        "test_data[:5]\n",
        "len(test_data)"
      ],
      "execution_count": 51,
      "outputs": [
        {
          "output_type": "execute_result",
          "data": {
            "text/plain": [
              "447"
            ]
          },
          "metadata": {
            "tags": []
          },
          "execution_count": 51
        }
      ]
    },
    {
      "cell_type": "code",
      "metadata": {
        "id": "XbZ-tzjFidOX",
        "colab_type": "code",
        "colab": {
          "base_uri": "https://localhost:8080/",
          "height": 34
        },
        "outputId": "9195c84f-d4e8-47fb-ad40-7921a478d49b"
      },
      "source": [
        "dev_data = open('atis.uw.dev.txt').readlines()\n",
        "dev_data[:5]\n",
        "\n",
        "len(dev_data)"
      ],
      "execution_count": 52,
      "outputs": [
        {
          "output_type": "execute_result",
          "data": {
            "text/plain": [
              "486"
            ]
          },
          "metadata": {
            "tags": []
          },
          "execution_count": 52
        }
      ]
    },
    {
      "cell_type": "code",
      "metadata": {
        "id": "5cbCgfP_ingG",
        "colab_type": "code",
        "colab": {}
      },
      "source": [
        "# Combining train, dev and test sets\n",
        "\n",
        "file_list = ['atis.uw.train.txt', 'atis.uw.dev.txt', 'atis.uw.test.txt']\n",
        "output_file = Path('Out_file.txt')\n",
        "for file in file_list:\n",
        "  output_file.write_text(Path(file).read_text())"
      ],
      "execution_count": 0,
      "outputs": []
    },
    {
      "cell_type": "code",
      "metadata": {
        "id": "r3Lc9l66mxuY",
        "colab_type": "code",
        "colab": {
          "base_uri": "https://localhost:8080/",
          "height": 34
        },
        "outputId": "2797a337-d323-4e66-b5fb-c6f1b7330a70"
      },
      "source": [
        "# Reading a combined file\n",
        "\n",
        "data = open('Out_file.txt').readlines()\n",
        "#data[:5]\n",
        "len(data)"
      ],
      "execution_count": 50,
      "outputs": [
        {
          "output_type": "execute_result",
          "data": {
            "text/plain": [
              "447"
            ]
          },
          "metadata": {
            "tags": []
          },
          "execution_count": 50
        }
      ]
    },
    {
      "cell_type": "code",
      "metadata": {
        "id": "m0zs0nOlVLAK",
        "colab_type": "code",
        "colab": {}
      },
      "source": [
        "# making a corpus\n",
        "\n",
        "def make_corpus(corpus_path):\n",
        "    en,sql = [],[]\n",
        "    for line in train_data:\n",
        "        if '\\n' in line:\n",
        "            new_line = line.replace('\\n','')\n",
        "            new_line = new_line.split('|||')\n",
        "            en.append(new_line[0])\n",
        "            sql.append(new_line[1])\n",
        "    return en,sql"
      ],
      "execution_count": 0,
      "outputs": []
    },
    {
      "cell_type": "code",
      "metadata": {
        "id": "aM5UU8DjXJ57",
        "colab_type": "code",
        "colab": {
          "base_uri": "https://localhost:8080/",
          "height": 105
        },
        "outputId": "4e4ef6be-c414-45ff-edec-2e122e1bd30b"
      },
      "source": [
        "#unpacking the corpus\n",
        "\n",
        "en, sql = make_corpus('atis.uw.train.txt')\n",
        "en[:2],sql[:2]"
      ],
      "execution_count": 16,
      "outputs": [
        {
          "output_type": "execute_result",
          "data": {
            "text/plain": [
              "(['list all the flights that arrive at general mitchell international from various cities ',\n",
              "  'give me the flights leaving denver august ninth coming back to boston '],\n",
              " [\" SELECT DISTINCT flight_1.flight_id FROM flight flight_1 , airport airport_1 , airport_service airport_service_1 , city city_1 WHERE flight_1.to_airport = airport_1.airport_code AND airport_1.airport_code = 'MKE' AND flight_1.from_airport = airport_service_1.airport_code AND airport_service_1.city_code = city_1.city_code\",\n",
              "  \" SELECT DISTINCT flight_1.flight_id FROM flight flight_1 , airport_service airport_service_1 , city city_1 , airport_service airport_service_2 , city city_2 , days days_1 , date_day date_day_1 WHERE flight_1.from_airport = airport_service_1.airport_code AND airport_service_1.city_code = city_1.city_code AND city_1.city_name = 'DENVER' AND ( flight_1.to_airport = airport_service_2.airport_code AND airport_service_2.city_code = city_2.city_code AND city_2.city_name = 'BOSTON' AND flight_1.flight_days = days_1.days_code AND days_1.day_name = date_day_1.day_name AND date_day_1.year = 1991 AND date_day_1.month_number = 8 AND date_day_1.day_number = 9 )\"])"
            ]
          },
          "metadata": {
            "tags": []
          },
          "execution_count": 16
        }
      ]
    },
    {
      "cell_type": "code",
      "metadata": {
        "id": "MrqVWmftXgNd",
        "colab_type": "code",
        "colab": {}
      },
      "source": [
        "#pre-processing for tokenizing \n",
        "# Natural language tokens\n",
        "\n",
        "def en_tokenizer(text):\n",
        "    text = text.lower()\n",
        "    return [t.text for t in en_tok.tokenizer(text)]\n",
        "  \n",
        "#SQL tokens\n",
        "def en_tokenizer(text):\n",
        "    text = text\n",
        "    return [t.text for t in en_tok.tokenizer(text)]"
      ],
      "execution_count": 0,
      "outputs": []
    },
    {
      "cell_type": "code",
      "metadata": {
        "id": "7L50Vb10Yp8N",
        "colab_type": "code",
        "colab": {
          "base_uri": "https://localhost:8080/",
          "height": 1000
        },
        "outputId": "a991c2d5-128f-40c7-d992-3d4b4861a557"
      },
      "source": [
        "# Tokens\n",
        "\n",
        "en_toks = [en_tokenizer(text) for text in en]\n",
        "sql_toks = [en_tokenizer(text) for text in sql]\n",
        "en_toks[:2], sql_toks[:2]"
      ],
      "execution_count": 18,
      "outputs": [
        {
          "output_type": "execute_result",
          "data": {
            "text/plain": [
              "([['list',\n",
              "   'all',\n",
              "   'the',\n",
              "   'flights',\n",
              "   'that',\n",
              "   'arrive',\n",
              "   'at',\n",
              "   'general',\n",
              "   'mitchell',\n",
              "   'international',\n",
              "   'from',\n",
              "   'various',\n",
              "   'cities'],\n",
              "  ['give',\n",
              "   'me',\n",
              "   'the',\n",
              "   'flights',\n",
              "   'leaving',\n",
              "   'denver',\n",
              "   'august',\n",
              "   'ninth',\n",
              "   'coming',\n",
              "   'back',\n",
              "   'to',\n",
              "   'boston']],\n",
              " [[' ',\n",
              "   'SELECT',\n",
              "   'DISTINCT',\n",
              "   'flight_1.flight_id',\n",
              "   'FROM',\n",
              "   'flight',\n",
              "   'flight_1',\n",
              "   ',',\n",
              "   'airport',\n",
              "   'airport_1',\n",
              "   ',',\n",
              "   'airport_service',\n",
              "   'airport_service_1',\n",
              "   ',',\n",
              "   'city',\n",
              "   'city_1',\n",
              "   'WHERE',\n",
              "   'flight_1.to_airport',\n",
              "   '=',\n",
              "   'airport_1.airport_code',\n",
              "   'AND',\n",
              "   'airport_1.airport_code',\n",
              "   '=',\n",
              "   \"'\",\n",
              "   'MKE',\n",
              "   \"'\",\n",
              "   'AND',\n",
              "   'flight_1.from_airport',\n",
              "   '=',\n",
              "   'airport_service_1.airport_code',\n",
              "   'AND',\n",
              "   'airport_service_1.city_code',\n",
              "   '=',\n",
              "   'city_1.city_code'],\n",
              "  [' ',\n",
              "   'SELECT',\n",
              "   'DISTINCT',\n",
              "   'flight_1.flight_id',\n",
              "   'FROM',\n",
              "   'flight',\n",
              "   'flight_1',\n",
              "   ',',\n",
              "   'airport_service',\n",
              "   'airport_service_1',\n",
              "   ',',\n",
              "   'city',\n",
              "   'city_1',\n",
              "   ',',\n",
              "   'airport_service',\n",
              "   'airport_service_2',\n",
              "   ',',\n",
              "   'city',\n",
              "   'city_2',\n",
              "   ',',\n",
              "   'days',\n",
              "   'days_1',\n",
              "   ',',\n",
              "   'date_day',\n",
              "   'date_day_1',\n",
              "   'WHERE',\n",
              "   'flight_1.from_airport',\n",
              "   '=',\n",
              "   'airport_service_1.airport_code',\n",
              "   'AND',\n",
              "   'airport_service_1.city_code',\n",
              "   '=',\n",
              "   'city_1.city_code',\n",
              "   'AND',\n",
              "   'city_1.city_name',\n",
              "   '=',\n",
              "   \"'\",\n",
              "   'DENVER',\n",
              "   \"'\",\n",
              "   'AND',\n",
              "   '(',\n",
              "   'flight_1.to_airport',\n",
              "   '=',\n",
              "   'airport_service_2.airport_code',\n",
              "   'AND',\n",
              "   'airport_service_2.city_code',\n",
              "   '=',\n",
              "   'city_2.city_code',\n",
              "   'AND',\n",
              "   'city_2.city_name',\n",
              "   '=',\n",
              "   \"'\",\n",
              "   'BOSTON',\n",
              "   \"'\",\n",
              "   'AND',\n",
              "   'flight_1.flight_days',\n",
              "   '=',\n",
              "   'days_1.days_code',\n",
              "   'AND',\n",
              "   'days_1.day_name',\n",
              "   '=',\n",
              "   'date_day_1.day_name',\n",
              "   'AND',\n",
              "   'date_day_1.year',\n",
              "   '=',\n",
              "   '1991',\n",
              "   'AND',\n",
              "   'date_day_1.month_number',\n",
              "   '=',\n",
              "   '8',\n",
              "   'AND',\n",
              "   'date_day_1.day_number',\n",
              "   '=',\n",
              "   '9',\n",
              "   ')']])"
            ]
          },
          "metadata": {
            "tags": []
          },
          "execution_count": 18
        }
      ]
    },
    {
      "cell_type": "code",
      "metadata": {
        "id": "DyVZE0gKZCsL",
        "colab_type": "code",
        "colab": {
          "base_uri": "https://localhost:8080/",
          "height": 34
        },
        "outputId": "c2ba5b08-b9cd-4708-c19b-07520e07137e"
      },
      "source": [
        "len(en_toks), len(sql_toks)"
      ],
      "execution_count": 19,
      "outputs": [
        {
          "output_type": "execute_result",
          "data": {
            "text/plain": [
              "(4350, 4350)"
            ]
          },
          "metadata": {
            "tags": []
          },
          "execution_count": 19
        }
      ]
    },
    {
      "cell_type": "code",
      "metadata": {
        "id": "bKduIWCHZ3fC",
        "colab_type": "code",
        "colab": {}
      },
      "source": [
        "# Creating a dictionary/numerical order\n",
        "\n",
        "def numericalize_tok(tokens, max_vocab=10000, min_freq=0, unk_tok=\"xxunk\", pad_tok=\"xxpad\", bos_tok=\"xxbos\", eos_tok=\"xxeos\"):\n",
        "    if isinstance(tokens, str):\n",
        "        raise ValueError(\"Expected to receive a list of tokens. Received a string instead\")\n",
        "    if isinstance(tokens[0], list):\n",
        "        tokens = [v for w in tokens for v in w]\n",
        "    freq = Counter(tokens)\n",
        "    int2tok = [w for w,z in freq.most_common(max_vocab) if z>min_freq]\n",
        "    unk_id = 3\n",
        "    int2tok.insert(0, bos_tok)\n",
        "    int2tok.insert(1, pad_tok)\n",
        "    int2tok.insert(2, eos_tok)\n",
        "    int2tok.insert(unk_id, unk_tok)\n",
        "    tok2int = defaultdict(lambda:unk_id, {n:k for k,n in enumerate(int2tok)})\n",
        "    return int2tok, tok2int\n",
        "  \n",
        " "
      ],
      "execution_count": 0,
      "outputs": []
    },
    {
      "cell_type": "code",
      "metadata": {
        "id": "tS5iR54ubrYm",
        "colab_type": "code",
        "colab": {}
      },
      "source": [
        "int2sql,sql2int = numericalize_tok(sql_toks)\n",
        "int2en,en2int = numericalize_tok(en_toks)"
      ],
      "execution_count": 0,
      "outputs": []
    },
    {
      "cell_type": "code",
      "metadata": {
        "id": "a-5VroSTb7e_",
        "colab_type": "code",
        "colab": {
          "base_uri": "https://localhost:8080/",
          "height": 34
        },
        "outputId": "80c0e61d-5833-4fb6-897b-eb280d2496a5"
      },
      "source": [
        "len(int2sql), len(int2en)"
      ],
      "execution_count": 23,
      "outputs": [
        {
          "output_type": "execute_result",
          "data": {
            "text/plain": [
              "(688, 859)"
            ]
          },
          "metadata": {
            "tags": []
          },
          "execution_count": 23
        }
      ]
    },
    {
      "cell_type": "code",
      "metadata": {
        "id": "aGD0JY0id0Bx",
        "colab_type": "code",
        "colab": {}
      },
      "source": [
        "ls"
      ],
      "execution_count": 0,
      "outputs": []
    },
    {
      "cell_type": "code",
      "metadata": {
        "id": "4YLltswucpBN",
        "colab_type": "code",
        "colab": {}
      },
      "source": [
        "# serializing (Saving) a list of tokens for further usage \n",
        "# english tokens\n",
        "\n",
        "int2en_out = open(\"int2en.pkl\",\"wb\")\n",
        "pickle.dump(int2en, int2en_out)\n",
        "int2en_out.close()"
      ],
      "execution_count": 0,
      "outputs": []
    },
    {
      "cell_type": "code",
      "metadata": {
        "id": "e20AGdxqeBL-",
        "colab_type": "code",
        "colab": {}
      },
      "source": [
        "# serializing (Saving) a list of tokens for further usage \n",
        "# SQL tokens\n",
        "\n",
        "int2sql_out = open(\"int2sql.pkl\",\"wb\")\n",
        "pickle.dump(int2sql, int2sql_out)\n",
        "int2sql_out.close()"
      ],
      "execution_count": 0,
      "outputs": []
    },
    {
      "cell_type": "code",
      "metadata": {
        "id": "TzhmhW76cA3w",
        "colab_type": "code",
        "colab": {}
      },
      "source": [
        "# Reading a list of tokens for further usage \n",
        "# English tokens\n",
        "  \n",
        "  with open ('int2en.pkl', 'rb') as fp:\n",
        "    int2en = pickle.load(fp)\n",
        "      "
      ],
      "execution_count": 0,
      "outputs": []
    },
    {
      "cell_type": "code",
      "metadata": {
        "id": "Ocmafk6uezDz",
        "colab_type": "code",
        "colab": {}
      },
      "source": [
        "# Reading a list of tokens for further usage \n",
        "# SQL tokens\n",
        "\n",
        "with open ('int2sql.pkl', 'rb') as fp:\n",
        "  int2sql = pickle.load(fp)"
      ],
      "execution_count": 0,
      "outputs": []
    },
    {
      "cell_type": "code",
      "metadata": {
        "id": "eNbXUiWNgxRv",
        "colab_type": "code",
        "colab": {
          "base_uri": "https://localhost:8080/",
          "height": 34
        },
        "outputId": "e9ec8600-ccb8-4208-9383-d804b183c072"
      },
      "source": [
        "type(int2en), type(int2sql)"
      ],
      "execution_count": 37,
      "outputs": [
        {
          "output_type": "execute_result",
          "data": {
            "text/plain": [
              "(list, list)"
            ]
          },
          "metadata": {
            "tags": []
          },
          "execution_count": 37
        }
      ]
    },
    {
      "cell_type": "code",
      "metadata": {
        "id": "6EOKBE_HfZMm",
        "colab_type": "code",
        "colab": {
          "base_uri": "https://localhost:8080/",
          "height": 34
        },
        "outputId": "0c8c8296-91b5-45e3-ff95-00190b2f2cc7"
      },
      "source": [
        "# Creating indices\n",
        "\n",
        "sql2int = defaultdict(lambda:3, {n:k for k,n in enumerate(int2sql)})\n",
        "en2int = defaultdict(lambda:3, {n:k for k,n in enumerate(int2en)})\n",
        "\n",
        "\n",
        "\n",
        "len(sql2int), len(en2int)"
      ],
      "execution_count": 36,
      "outputs": [
        {
          "output_type": "execute_result",
          "data": {
            "text/plain": [
              "(688, 859)"
            ]
          },
          "metadata": {
            "tags": []
          },
          "execution_count": 36
        }
      ]
    },
    {
      "cell_type": "code",
      "metadata": {
        "id": "P-sNc6ESffvi",
        "colab_type": "code",
        "colab": {
          "base_uri": "https://localhost:8080/",
          "height": 1000
        },
        "outputId": "0752da88-64fc-4b41-d669-2129a8bf58d8"
      },
      "source": [
        "\n",
        "sql_ids = np.array([[0]+[sql2int[o] for o in sent]+[2] for sent in sql_toks])\n",
        "en_ids = np.array([[0]+[en2int[o] for o in sent]+[2] for sent in en_toks])\n",
        "len(sql_ids),len(en_ids), sql_ids[3],en_ids[3]"
      ],
      "execution_count": 39,
      "outputs": [
        {
          "output_type": "execute_result",
          "data": {
            "text/plain": [
              "(4350,\n",
              " 4350,\n",
              " [0,\n",
              "  25,\n",
              "  12,\n",
              "  24,\n",
              "  41,\n",
              "  13,\n",
              "  49,\n",
              "  51,\n",
              "  6,\n",
              "  50,\n",
              "  54,\n",
              "  6,\n",
              "  19,\n",
              "  22,\n",
              "  6,\n",
              "  9,\n",
              "  23,\n",
              "  6,\n",
              "  8,\n",
              "  17,\n",
              "  6,\n",
              "  9,\n",
              "  33,\n",
              "  6,\n",
              "  8,\n",
              "  30,\n",
              "  14,\n",
              "  69,\n",
              "  4,\n",
              "  10,\n",
              "  12,\n",
              "  148,\n",
              "  10,\n",
              "  69,\n",
              "  11,\n",
              "  13,\n",
              "  49,\n",
              "  51,\n",
              "  6,\n",
              "  50,\n",
              "  54,\n",
              "  6,\n",
              "  19,\n",
              "  22,\n",
              "  6,\n",
              "  9,\n",
              "  23,\n",
              "  6,\n",
              "  8,\n",
              "  17,\n",
              "  6,\n",
              "  9,\n",
              "  33,\n",
              "  6,\n",
              "  8,\n",
              "  30,\n",
              "  14,\n",
              "  114,\n",
              "  4,\n",
              "  7,\n",
              "  115,\n",
              "  7,\n",
              "  5,\n",
              "  41,\n",
              "  4,\n",
              "  52,\n",
              "  5,\n",
              "  53,\n",
              "  4,\n",
              "  18,\n",
              "  5,\n",
              "  58,\n",
              "  4,\n",
              "  7,\n",
              "  116,\n",
              "  7,\n",
              "  5,\n",
              "  10,\n",
              "  27,\n",
              "  4,\n",
              "  21,\n",
              "  5,\n",
              "  20,\n",
              "  4,\n",
              "  15,\n",
              "  5,\n",
              "  16,\n",
              "  4,\n",
              "  7,\n",
              "  48,\n",
              "  7,\n",
              "  5,\n",
              "  26,\n",
              "  4,\n",
              "  31,\n",
              "  5,\n",
              "  32,\n",
              "  4,\n",
              "  28,\n",
              "  5,\n",
              "  29,\n",
              "  4,\n",
              "  7,\n",
              "  59,\n",
              "  7,\n",
              "  11,\n",
              "  11,\n",
              "  5,\n",
              "  41,\n",
              "  4,\n",
              "  52,\n",
              "  5,\n",
              "  53,\n",
              "  4,\n",
              "  18,\n",
              "  5,\n",
              "  58,\n",
              "  4,\n",
              "  7,\n",
              "  116,\n",
              "  7,\n",
              "  5,\n",
              "  10,\n",
              "  27,\n",
              "  4,\n",
              "  21,\n",
              "  5,\n",
              "  20,\n",
              "  4,\n",
              "  15,\n",
              "  5,\n",
              "  16,\n",
              "  4,\n",
              "  7,\n",
              "  48,\n",
              "  7,\n",
              "  5,\n",
              "  26,\n",
              "  4,\n",
              "  31,\n",
              "  5,\n",
              "  32,\n",
              "  4,\n",
              "  28,\n",
              "  5,\n",
              "  29,\n",
              "  4,\n",
              "  7,\n",
              "  59,\n",
              "  7,\n",
              "  11,\n",
              "  2],\n",
              " [0, 9, 23, 7, 268, 169, 67, 70, 40, 5, 12, 4, 20, 8, 68, 31, 2])"
            ]
          },
          "metadata": {
            "tags": []
          },
          "execution_count": 39
        }
      ]
    },
    {
      "cell_type": "code",
      "metadata": {
        "id": "xRwoklf5hYlg",
        "colab_type": "code",
        "colab": {}
      },
      "source": [
        "# we set seed for reproducibility/splitting train and test\n",
        "\n",
        "np.random.seed(42)"
      ],
      "execution_count": 0,
      "outputs": []
    },
    {
      "cell_type": "code",
      "metadata": {
        "id": "FM6lyTTvwbA3",
        "colab_type": "code",
        "colab": {
          "base_uri": "https://localhost:8080/",
          "height": 34
        },
        "outputId": "8f2d60bb-b10f-4040-ac2b-07d7e5463e20"
      },
      "source": [
        "#Padding for ebatch normalization\n",
        "\n",
        "import keras\n",
        "from keras.preprocessing.sequence import pad_sequences\n",
        "\n",
        "englen_90 = int(np.percentile([len(o) for o in en_ids], 99))\n",
        "sqllen_90 = int(np.percentile([len(o) for o in sql_ids], 99))\n",
        "englen_90, sqllen_90"
      ],
      "execution_count": 72,
      "outputs": [
        {
          "output_type": "execute_result",
          "data": {
            "text/plain": [
              "(27, 254)"
            ]
          },
          "metadata": {
            "tags": []
          },
          "execution_count": 72
        }
      ]
    },
    {
      "cell_type": "code",
      "metadata": {
        "id": "HDyvxWR3wnDq",
        "colab_type": "code",
        "colab": {}
      },
      "source": [
        "sql_ids = pad_sequences(sql_ids, maxlen=254, dtype='int32', padding='post', truncating='post', value=1)\n",
        "en_ids = pad_sequences(en_ids, maxlen=27, dtype='int32', padding='post', truncating='post', value=1)"
      ],
      "execution_count": 0,
      "outputs": []
    },
    {
      "cell_type": "code",
      "metadata": {
        "id": "8Q1NWq6IiCcN",
        "colab_type": "code",
        "colab": {
          "base_uri": "https://localhost:8080/",
          "height": 34
        },
        "outputId": "583a870f-0c87-486c-f725-230e026c1eb2"
      },
      "source": [
        "trn_keep = np.random.rand(len(en_ids))>0.1\n",
        "en_trn,sql_trn = en_ids[trn_keep],sql_ids[trn_keep]\n",
        "en_val,sql_val = en_ids[~trn_keep],sql_ids[~trn_keep]\n",
        "len(en_trn),len(en_val)"
      ],
      "execution_count": 74,
      "outputs": [
        {
          "output_type": "execute_result",
          "data": {
            "text/plain": [
              "(3886, 464)"
            ]
          },
          "metadata": {
            "tags": []
          },
          "execution_count": 74
        }
      ]
    },
    {
      "cell_type": "code",
      "metadata": {
        "id": "rTXG0MVhoEtY",
        "colab_type": "code",
        "colab": {}
      },
      "source": [
        "# Using pytorch framework to train seq2seq\n",
        "\n",
        "import torch\n",
        "import torch.nn as nn\n",
        "import torch.nn.functional as F\n",
        "\n",
        "from torch.autograd.variable import Variable\n",
        "from torch.utils.data import Dataset,DataLoader\n"
      ],
      "execution_count": 0,
      "outputs": []
    },
    {
      "cell_type": "code",
      "metadata": {
        "id": "JiSnF7M3owCH",
        "colab_type": "code",
        "colab": {}
      },
      "source": [
        "from numpy import array as A"
      ],
      "execution_count": 0,
      "outputs": []
    },
    {
      "cell_type": "code",
      "metadata": {
        "id": "fcyqg8lHo4q0",
        "colab_type": "code",
        "colab": {}
      },
      "source": [
        "#Creating a seq2seq\n",
        "\n",
        "class seq2seqDataset(Dataset):\n",
        "  def __init__(self, x, y): self.x,self.y = x,y\n",
        "  def __getitem__(self, idx): return A(self.x[idx]), A(self.y[idx])\n",
        "  def __len__(self): return len(self.x)\n",
        "  \n",
        "  "
      ],
      "execution_count": 0,
      "outputs": []
    },
    {
      "cell_type": "code",
      "metadata": {
        "id": "gqg_k_YapyZs",
        "colab_type": "code",
        "colab": {}
      },
      "source": [
        "# Training sequence\n",
        "\n",
        "trn_ds = seq2seqDataset(en_trn,sql_trn)\n",
        "val_ds = seq2seqDataset(en_val,sql_val)\n",
        "\n",
        "bs = 120 #batch size\n",
        "\n",
        "# Loading training dataset\n",
        "\n",
        "trn_dl = DataLoader(trn_ds,batch_size=bs,shuffle=True)\n",
        "val_dl = DataLoader(val_ds,batch_size=bs)"
      ],
      "execution_count": 0,
      "outputs": []
    },
    {
      "cell_type": "code",
      "metadata": {
        "id": "ifEF2rwWuMeY",
        "colab_type": "code",
        "colab": {
          "base_uri": "https://localhost:8080/",
          "height": 34
        },
        "outputId": "ebf448d6-6fdd-494e-c2d0-ad585a75271d"
      },
      "source": [
        "x, y = next(iter(val_dl))\n",
        "x.size(), y.size()\n",
        "\n"
      ],
      "execution_count": 79,
      "outputs": [
        {
          "output_type": "execute_result",
          "data": {
            "text/plain": [
              "(torch.Size([120, 27]), torch.Size([120, 254]))"
            ]
          },
          "metadata": {
            "tags": []
          },
          "execution_count": 79
        }
      ]
    },
    {
      "cell_type": "code",
      "metadata": {
        "id": "nUBsF3gDvuPu",
        "colab_type": "code",
        "colab": {}
      },
      "source": [
        "## load fasttext vectors\n",
        "#code from here:https://github.com/facebookresearch/fastText/blob/master/docs/crawl-vectors.md\n",
        "import io\n",
        "def load_vectors(fname):\n",
        "    fin = io.open(fname, 'r', encoding='utf-8', newline='\\n', errors='ignore')\n",
        "    header = fin.readline().split()\n",
        "    n, d = int(header[0]), int(header[1])\n",
        "    data = {}\n",
        "    for line in fin:\n",
        "        tokens = line.rstrip().split(' ')\n",
        "        data[tokens[0]] = np.array(tokens[1:], dtype=float)\n",
        "    return data, int(n), int(d)"
      ],
      "execution_count": 0,
      "outputs": []
    },
    {
      "cell_type": "code",
      "metadata": {
        "id": "42ns8Tbutaj-",
        "colab_type": "code",
        "colab": {
          "base_uri": "https://localhost:8080/",
          "height": 248
        },
        "outputId": "ec38ecfe-a4a8-4e46-f3bd-b93d36d36f31"
      },
      "source": [
        "# get word vectors\n",
        "!wget https://dl.fbaipublicfiles.com/fasttext/vectors-english/wiki-news-300d-1M.vec.zip\n",
        "!unzip wiki-news-300d-1M.vec.zip\n",
        "!mv wiki-news-300d-1M.vec data/\n"
      ],
      "execution_count": 0,
      "outputs": [
        {
          "output_type": "stream",
          "text": [
            "--2019-08-18 08:14:16--  https://dl.fbaipublicfiles.com/fasttext/vectors-english/wiki-news-300d-1M.vec.zip\n",
            "Resolving dl.fbaipublicfiles.com (dl.fbaipublicfiles.com)... 104.20.22.166, 104.20.6.166, 2606:4700:10::6814:6a6, ...\n",
            "Connecting to dl.fbaipublicfiles.com (dl.fbaipublicfiles.com)|104.20.22.166|:443... connected.\n",
            "HTTP request sent, awaiting response... 200 OK\n",
            "Length: 681808098 (650M) [application/zip]\n",
            "Saving to: ‘wiki-news-300d-1M.vec.zip.1’\n",
            "\n",
            "wiki-news-300d-1M.v 100%[===================>] 650.22M  38.5MB/s    in 18s     \n",
            "\n",
            "2019-08-18 08:14:34 (37.1 MB/s) - ‘wiki-news-300d-1M.vec.zip.1’ saved [681808098/681808098]\n",
            "\n",
            "Archive:  wiki-news-300d-1M.vec.zip\n",
            "replace wiki-news-300d-1M.vec? [y]es, [n]o, [A]ll, [N]one, [r]ename: "
          ],
          "name": "stdout"
        }
      ]
    },
    {
      "cell_type": "code",
      "metadata": {
        "id": "y2SFkDNct6sc",
        "colab_type": "code",
        "colab": {}
      },
      "source": [
        ""
      ],
      "execution_count": 0,
      "outputs": []
    }
  ]
}